{
  "cells": [
    {
      "cell_type": "markdown",
      "metadata": {
        "id": "view-in-github",
        "colab_type": "text"
      },
      "source": [
        "<a href=\"https://colab.research.google.com/github/fahad03/Dsss_homework_2/blob/main/7_statistics.ipynb\" target=\"_parent\"><img src=\"https://colab.research.google.com/assets/colab-badge.svg\" alt=\"Open In Colab\"/></a>"
      ]
    },
    {
      "cell_type": "markdown",
      "id": "1271c073",
      "metadata": {
        "pycharm": {
          "name": "#%% md\n"
        },
        "id": "1271c073"
      },
      "source": [
        "Fill in your github username and idm credentials below:"
      ]
    },
    {
      "cell_type": "code",
      "execution_count": 1,
      "id": "d84c417c",
      "metadata": {
        "pycharm": {
          "is_executing": true,
          "name": "#%%\n"
        },
        "vscode": {
          "languageId": "python"
        },
        "id": "d84c417c"
      },
      "outputs": [],
      "source": [
        "github_username = \"fahad03\"\n",
        "idm_credentials = \"uw42ewob\""
      ]
    },
    {
      "cell_type": "markdown",
      "id": "ee39f800",
      "metadata": {
        "pycharm": {
          "name": "#%% md\n"
        },
        "id": "ee39f800"
      },
      "source": [
        "---"
      ]
    },
    {
      "cell_type": "markdown",
      "id": "755c6140-79ab-496f-9e79-71972edca5bc",
      "metadata": {
        "pycharm": {
          "name": "#%% md\n"
        },
        "id": "755c6140-79ab-496f-9e79-71972edca5bc"
      },
      "source": [
        "# **Applied Data Science in Medicine & Psychology - Assignment 7**\n",
        "## Statistics\n",
        "---\n",
        "### **General Setup and Submission**\n",
        "1. Save an editable copy of this notebook to your Google Drive ``File`` $\\rightarrow$ ``Save a copy in Drive`` and remove the automatically appended \"Copy of\" text. **Do not change the original file name**.\n",
        "2. Work on the assignment in the *copied* version of the notebook. Make sure that you **replace** all parts of the tasks indicated with *YOUR CODE HERE* and **raise NotImplementedError()** (otherwise this causes an error in your implementation) or *YOUR ANSWER HERE* with your solution.\n",
        "3. If you take a break during the implementation, you can save the current status of your work in your repository following the submission instructions below. When you continue working on the assignment, do this in the version of the notebook that you saved in your Google Drive (access from your Google Colab account) or your repository.\n",
        "4. After finishing the assignment submit your assignment as follows:\n",
        "    * Check that everything runs as expected. To do that select in the menubar ``Runtime`` $\\rightarrow$ ``Restart and run all``. This will clear all your local variables and runs your notebook from the beginning.\n",
        "    * Save your notebook, click ``File`` $\\rightarrow$ ``Save``\n",
        "    * Click ``File`` $\\rightarrow$ ``Save a copy in GitHub``\n",
        "    * Select ``digikolleg-data-science-psychology/7-statistics-<username>`` from the repository drop-down menu\n",
        "    * Type ``7_statistics.ipynb`` into the file path text box\n",
        "    * Optionally, you may enter a description into the \"Commit message\" text box (like: \"solved task 1\" or \"ready for grading\")\n",
        "    * Make sure that the \"Include a link to Colaboratory\" box is checked\n",
        "    * Press \"Ok\"\n",
        "    * A new tab or window should open up, displaying your submitted notebook within your GitHub repository\n",
        "\n",
        "Before the assignment deadline, you can re-submit your assignment as often as you would like. This will update your assignment file in your assignment's repository."
      ]
    },
    {
      "cell_type": "markdown",
      "id": "2fe61c2c-a030-4c02-8214-7db7d1c10df5",
      "metadata": {
        "id": "2fe61c2c-a030-4c02-8214-7db7d1c10df5"
      },
      "source": [
        "### **Assignment Description**\n",
        "In this assignment, you will dive into the world of statistics using Python libraries. You will learn to generate distributions, correct outliers, and perform different types of statistical analyses on two datasets.\n",
        "\n",
        "#### **Assignment Goals**\n",
        "You are going to learn the following things in this assignment:\n",
        "1. how to create distributions with different parameters\n",
        "2. how to perform one way of outlier correction\n",
        "3. how to perform preparatory analysis using a library\n",
        "4. how to perform statistical analysis using a library\n",
        "\n",
        "#### **Assignment Point Value**\n",
        "This assignment is worth a total (up to) **11** points. If your code passes all of the manual and automatic tests you will receive full credit."
      ]
    },
    {
      "cell_type": "markdown",
      "id": "89d2a637-e274-43a8-a88a-23bb204e96db",
      "metadata": {
        "id": "89d2a637-e274-43a8-a88a-23bb204e96db"
      },
      "source": [
        "### **Tasks**\n",
        "Make sure that you now work on your *copied* version of this assignment's notebook."
      ]
    },
    {
      "cell_type": "markdown",
      "id": "42e90337-1130-4412-b037-d1267bc45101",
      "metadata": {
        "id": "42e90337-1130-4412-b037-d1267bc45101"
      },
      "source": [
        "#### 0. Imports and Setup\n",
        "Please **run** the cell below to import the libraries needed for this assignment."
      ]
    },
    {
      "cell_type": "code",
      "execution_count": 2,
      "id": "23f1cef0-5d30-4548-b6b6-4020b3013f8c",
      "metadata": {
        "id": "23f1cef0-5d30-4548-b6b6-4020b3013f8c",
        "colab": {
          "base_uri": "https://localhost:8080/"
        },
        "outputId": "8aaf2850-4ce1-48e2-c72f-1df2d97f9dde"
      },
      "outputs": [
        {
          "output_type": "stream",
          "name": "stdout",
          "text": [
            "Requirement already satisfied: biopsykit in /usr/local/lib/python3.11/dist-packages (0.13.1)\n",
            "Requirement already satisfied: bioread<4,>=3 in /usr/local/lib/python3.11/dist-packages (from biopsykit) (3.1.0)\n",
            "Requirement already satisfied: fau-colors~=1.1 in /usr/local/lib/python3.11/dist-packages (from biopsykit) (1.10.1)\n",
            "Requirement already satisfied: joblib<2,>=1 in /usr/local/lib/python3.11/dist-packages (from biopsykit) (1.5.1)\n",
            "Requirement already satisfied: matplotlib~=3.9 in /usr/local/lib/python3.11/dist-packages (from biopsykit) (3.10.0)\n",
            "Requirement already satisfied: neurokit2<0.2.11,>=0 in /usr/local/lib/python3.11/dist-packages (from biopsykit) (0.2.10)\n",
            "Requirement already satisfied: nilspodlib>=4.0.0 in /usr/local/lib/python3.11/dist-packages (from biopsykit) (4.1.1)\n",
            "Requirement already satisfied: numpy>=1.26 in /usr/local/lib/python3.11/dist-packages (from biopsykit) (2.3.1)\n",
            "Requirement already satisfied: openpyxl<4,>=3 in /usr/local/lib/python3.11/dist-packages (from biopsykit) (3.1.5)\n",
            "Requirement already satisfied: pandas<3,>=2 in /usr/local/lib/python3.11/dist-packages (from biopsykit) (2.2.2)\n",
            "Requirement already satisfied: pingouin<0.6,>=0.5.2 in /usr/local/lib/python3.11/dist-packages (from biopsykit) (0.5.5)\n",
            "Requirement already satisfied: scikit-learn~=1.0 in /usr/local/lib/python3.11/dist-packages (from biopsykit) (1.6.1)\n",
            "Requirement already satisfied: scipy<2,>=1 in /usr/local/lib/python3.11/dist-packages (from biopsykit) (1.15.3)\n",
            "Requirement already satisfied: seaborn<1,>=0 in /usr/local/lib/python3.11/dist-packages (from biopsykit) (0.13.2)\n",
            "Requirement already satisfied: statannotations<0.8,>=0.7.1 in /usr/local/lib/python3.11/dist-packages (from biopsykit) (0.7.2)\n",
            "Requirement already satisfied: statsmodels<1,>=0 in /usr/local/lib/python3.11/dist-packages (from biopsykit) (0.14.4)\n",
            "Requirement already satisfied: tpcp>=1 in /usr/local/lib/python3.11/dist-packages (from biopsykit) (2.0.0)\n",
            "Requirement already satisfied: tqdm<5,>=4 in /usr/local/lib/python3.11/dist-packages (from biopsykit) (4.67.1)\n",
            "Requirement already satisfied: ts2vg<2,>=1.2.4 in /usr/local/lib/python3.11/dist-packages (from biopsykit) (1.2.4)\n",
            "Requirement already satisfied: xlrd<3,>=2 in /usr/local/lib/python3.11/dist-packages (from biopsykit) (2.0.2)\n",
            "Requirement already satisfied: xlsxwriter<2,>=1 in /usr/local/lib/python3.11/dist-packages (from biopsykit) (1.4.5)\n",
            "Requirement already satisfied: docopt>=0.6.1 in /usr/local/lib/python3.11/dist-packages (from bioread<4,>=3->biopsykit) (0.6.2)\n",
            "Requirement already satisfied: pytest>=8.3.4 in /usr/local/lib/python3.11/dist-packages (from bioread<4,>=3->biopsykit) (8.3.5)\n",
            "Requirement already satisfied: contourpy>=1.0.1 in /usr/local/lib/python3.11/dist-packages (from matplotlib~=3.9->biopsykit) (1.3.2)\n",
            "Requirement already satisfied: cycler>=0.10 in /usr/local/lib/python3.11/dist-packages (from matplotlib~=3.9->biopsykit) (0.12.1)\n",
            "Requirement already satisfied: fonttools>=4.22.0 in /usr/local/lib/python3.11/dist-packages (from matplotlib~=3.9->biopsykit) (4.58.4)\n",
            "Requirement already satisfied: kiwisolver>=1.3.1 in /usr/local/lib/python3.11/dist-packages (from matplotlib~=3.9->biopsykit) (1.4.8)\n",
            "Requirement already satisfied: packaging>=20.0 in /usr/local/lib/python3.11/dist-packages (from matplotlib~=3.9->biopsykit) (24.2)\n",
            "Requirement already satisfied: pillow>=8 in /usr/local/lib/python3.11/dist-packages (from matplotlib~=3.9->biopsykit) (11.2.1)\n",
            "Requirement already satisfied: pyparsing>=2.3.1 in /usr/local/lib/python3.11/dist-packages (from matplotlib~=3.9->biopsykit) (3.2.3)\n",
            "Requirement already satisfied: python-dateutil>=2.7 in /usr/local/lib/python3.11/dist-packages (from matplotlib~=3.9->biopsykit) (2.9.0.post0)\n",
            "Requirement already satisfied: requests in /usr/local/lib/python3.11/dist-packages (from neurokit2<0.2.11,>=0->biopsykit) (2.32.3)\n",
            "Requirement already satisfied: imucal>=2.0.0 in /usr/local/lib/python3.11/dist-packages (from nilspodlib>=4.0.0->biopsykit) (2.6.0)\n",
            "Requirement already satisfied: typing-extensions>=4.3.0 in /usr/local/lib/python3.11/dist-packages (from nilspodlib>=4.0.0->biopsykit) (4.14.0)\n",
            "Requirement already satisfied: et-xmlfile in /usr/local/lib/python3.11/dist-packages (from openpyxl<4,>=3->biopsykit) (2.0.0)\n",
            "Requirement already satisfied: pytz>=2020.1 in /usr/local/lib/python3.11/dist-packages (from pandas<3,>=2->biopsykit) (2025.2)\n",
            "Requirement already satisfied: tzdata>=2022.7 in /usr/local/lib/python3.11/dist-packages (from pandas<3,>=2->biopsykit) (2025.2)\n",
            "Requirement already satisfied: pandas-flavor in /usr/local/lib/python3.11/dist-packages (from pingouin<0.6,>=0.5.2->biopsykit) (0.7.0)\n",
            "Requirement already satisfied: tabulate in /usr/local/lib/python3.11/dist-packages (from pingouin<0.6,>=0.5.2->biopsykit) (0.9.0)\n",
            "Requirement already satisfied: threadpoolctl>=3.1.0 in /usr/local/lib/python3.11/dist-packages (from scikit-learn~=1.0->biopsykit) (3.6.0)\n",
            "Requirement already satisfied: patsy>=0.5.6 in /usr/local/lib/python3.11/dist-packages (from statsmodels<1,>=0->biopsykit) (1.0.1)\n",
            "Requirement already satisfied: iniconfig in /usr/local/lib/python3.11/dist-packages (from pytest>=8.3.4->bioread<4,>=3->biopsykit) (2.1.0)\n",
            "Requirement already satisfied: pluggy<2,>=1.5 in /usr/local/lib/python3.11/dist-packages (from pytest>=8.3.4->bioread<4,>=3->biopsykit) (1.6.0)\n",
            "Requirement already satisfied: six>=1.5 in /usr/local/lib/python3.11/dist-packages (from python-dateutil>=2.7->matplotlib~=3.9->biopsykit) (1.17.0)\n",
            "Requirement already satisfied: xarray in /usr/local/lib/python3.11/dist-packages (from pandas-flavor->pingouin<0.6,>=0.5.2->biopsykit) (2025.3.1)\n",
            "Requirement already satisfied: charset-normalizer<4,>=2 in /usr/local/lib/python3.11/dist-packages (from requests->neurokit2<0.2.11,>=0->biopsykit) (3.4.2)\n",
            "Requirement already satisfied: idna<4,>=2.5 in /usr/local/lib/python3.11/dist-packages (from requests->neurokit2<0.2.11,>=0->biopsykit) (3.10)\n",
            "Requirement already satisfied: urllib3<3,>=1.21.1 in /usr/local/lib/python3.11/dist-packages (from requests->neurokit2<0.2.11,>=0->biopsykit) (2.4.0)\n",
            "Requirement already satisfied: certifi>=2017.4.17 in /usr/local/lib/python3.11/dist-packages (from requests->neurokit2<0.2.11,>=0->biopsykit) (2025.6.15)\n",
            "Requirement already satisfied: pingouin in /usr/local/lib/python3.11/dist-packages (0.5.5)\n",
            "Requirement already satisfied: matplotlib in /usr/local/lib/python3.11/dist-packages (from pingouin) (3.10.0)\n",
            "Requirement already satisfied: numpy in /usr/local/lib/python3.11/dist-packages (from pingouin) (2.3.1)\n",
            "Requirement already satisfied: pandas>=1.5 in /usr/local/lib/python3.11/dist-packages (from pingouin) (2.2.2)\n",
            "Requirement already satisfied: pandas-flavor in /usr/local/lib/python3.11/dist-packages (from pingouin) (0.7.0)\n",
            "Requirement already satisfied: scikit-learn>=1.2 in /usr/local/lib/python3.11/dist-packages (from pingouin) (1.6.1)\n",
            "Requirement already satisfied: scipy in /usr/local/lib/python3.11/dist-packages (from pingouin) (1.15.3)\n",
            "Requirement already satisfied: seaborn in /usr/local/lib/python3.11/dist-packages (from pingouin) (0.13.2)\n",
            "Requirement already satisfied: statsmodels in /usr/local/lib/python3.11/dist-packages (from pingouin) (0.14.4)\n",
            "Requirement already satisfied: tabulate in /usr/local/lib/python3.11/dist-packages (from pingouin) (0.9.0)\n",
            "Requirement already satisfied: python-dateutil>=2.8.2 in /usr/local/lib/python3.11/dist-packages (from pandas>=1.5->pingouin) (2.9.0.post0)\n",
            "Requirement already satisfied: pytz>=2020.1 in /usr/local/lib/python3.11/dist-packages (from pandas>=1.5->pingouin) (2025.2)\n",
            "Requirement already satisfied: tzdata>=2022.7 in /usr/local/lib/python3.11/dist-packages (from pandas>=1.5->pingouin) (2025.2)\n",
            "Requirement already satisfied: joblib>=1.2.0 in /usr/local/lib/python3.11/dist-packages (from scikit-learn>=1.2->pingouin) (1.5.1)\n",
            "Requirement already satisfied: threadpoolctl>=3.1.0 in /usr/local/lib/python3.11/dist-packages (from scikit-learn>=1.2->pingouin) (3.6.0)\n",
            "Requirement already satisfied: contourpy>=1.0.1 in /usr/local/lib/python3.11/dist-packages (from matplotlib->pingouin) (1.3.2)\n",
            "Requirement already satisfied: cycler>=0.10 in /usr/local/lib/python3.11/dist-packages (from matplotlib->pingouin) (0.12.1)\n",
            "Requirement already satisfied: fonttools>=4.22.0 in /usr/local/lib/python3.11/dist-packages (from matplotlib->pingouin) (4.58.4)\n",
            "Requirement already satisfied: kiwisolver>=1.3.1 in /usr/local/lib/python3.11/dist-packages (from matplotlib->pingouin) (1.4.8)\n",
            "Requirement already satisfied: packaging>=20.0 in /usr/local/lib/python3.11/dist-packages (from matplotlib->pingouin) (24.2)\n",
            "Requirement already satisfied: pillow>=8 in /usr/local/lib/python3.11/dist-packages (from matplotlib->pingouin) (11.2.1)\n",
            "Requirement already satisfied: pyparsing>=2.3.1 in /usr/local/lib/python3.11/dist-packages (from matplotlib->pingouin) (3.2.3)\n",
            "Requirement already satisfied: xarray in /usr/local/lib/python3.11/dist-packages (from pandas-flavor->pingouin) (2025.3.1)\n",
            "Requirement already satisfied: patsy>=0.5.6 in /usr/local/lib/python3.11/dist-packages (from statsmodels->pingouin) (1.0.1)\n",
            "Requirement already satisfied: six>=1.5 in /usr/local/lib/python3.11/dist-packages (from python-dateutil>=2.8.2->pandas>=1.5->pingouin) (1.17.0)\n"
          ]
        }
      ],
      "source": [
        "import matplotlib.pyplot as plt\n",
        "import numpy as np\n",
        "import pandas as pd\n",
        "!pip install biopsykit\n",
        "import biopsykit as bp\n",
        "from scipy import stats\n",
        "!pip install pingouin\n",
        "import pingouin as pg"
      ]
    },
    {
      "cell_type": "markdown",
      "id": "d39917ec-e874-4068-b309-2cc4e6f0315e",
      "metadata": {
        "id": "d39917ec-e874-4068-b309-2cc4e6f0315e"
      },
      "source": [
        "#### 1. Introductory Task\n",
        "In this task, we will create a bimodal distribution from two Gaussian distributions and implement one possible way of outlier correction.\n",
        "\n",
        "##### 1.1 Create a bimodal distribution ``data`` with 20000 samples. To do so:\n",
        "* Create a Gaussian distribution ``data_1`` with mean: 17, standard deviation: 5, and 10000 samples\n",
        "* Create a Gaussian distribution ``data_2`` with mean: 28, standard deviation: 3, and 10000 samples\n",
        "* Concatenate ``data_1`` and ``data_2`` to ``data`` and convert ``data`` to type int\n",
        "\n",
        "**Hint**: Check out if [numpy.random.normal](https://numpy.org/doc/stable/reference/random/generated/numpy.random.normal.html) can help you to solve the task."
      ]
    },
    {
      "cell_type": "code",
      "execution_count": 4,
      "id": "aae3e447-5525-4c2d-9be5-1b6ceb97ea95",
      "metadata": {
        "deletable": false,
        "nbgrader": {
          "cell_type": "code",
          "checksum": "357aafc999104c31d352630b75d1b9c3",
          "grade": false,
          "grade_id": "create_distribution",
          "locked": false,
          "schema_version": 3,
          "solution": true,
          "task": false
        },
        "tags": [],
        "id": "aae3e447-5525-4c2d-9be5-1b6ceb97ea95"
      },
      "outputs": [],
      "source": [
        "np.random.seed(0)\n",
        "\n",
        "data_1 = np.random.normal(loc=17, scale=5, size=10000)\n",
        "data_2 = np.random.normal(loc=28, scale=3, size=10000)\n",
        "data = np.concatenate((data_1, data_2)).astype(int)"
      ]
    },
    {
      "cell_type": "code",
      "execution_count": 5,
      "id": "6d973162-05b7-4dc9-95b0-f66c62d49ab2",
      "metadata": {
        "deletable": false,
        "editable": false,
        "nbgrader": {
          "cell_type": "code",
          "checksum": "313374f9fb94226aca3bd30430b2fb99",
          "grade": true,
          "grade_id": "create_distribution_test",
          "locked": true,
          "points": 1,
          "schema_version": 3,
          "solution": false,
          "task": false
        },
        "tags": [],
        "id": "6d973162-05b7-4dc9-95b0-f66c62d49ab2"
      },
      "outputs": [],
      "source": [
        "# run tests to check your implementation\n",
        "assert np.shape(data_1) == (10000,) and np.shape(data_2) == (10000,) and np.shape(data) == (20000,), \"Check the shapes of data_1, data_2, and data\"\n",
        "assert data.dtype == int, \"Check if you converted the values to type int\"\n",
        "assert np.mean(data_1) > 16.5 and np.mean(data_1) < 17.5 and np.std(data_1) > 4.5 and np.std(data_1) < 5.5, \"Check mean and standard deviation of data_1\"\n",
        "assert np.mean(data_2) > 27.5 and np.mean(data_2) < 28.5 and np.std(data_2) > 2.5 and np.std(data_2) < 3.5, \"Check mean and standard deviation of data_2\""
      ]
    },
    {
      "cell_type": "code",
      "execution_count": 6,
      "id": "d4dc3be6-7a93-47b8-8edb-0f43e705acb6",
      "metadata": {
        "tags": [],
        "id": "d4dc3be6-7a93-47b8-8edb-0f43e705acb6",
        "colab": {
          "base_uri": "https://localhost:8080/",
          "height": 307
        },
        "outputId": "821723ea-affb-4f5e-a399-f2c0476449b1"
      },
      "outputs": [
        {
          "output_type": "display_data",
          "data": {
            "text/plain": [
              "<Figure size 800x300 with 3 Axes>"
            ],
            "image/png": "[encoded data removed]"
          },
          "metadata": {}
        }
      ],
      "source": [
        "# run cell to visualize data\n",
        "bins = np.arange(start=0.5, stop=41.5, step=1).tolist()\n",
        "fig, axs = plt.subplots(ncols=3, figsize=(8, 3), sharey=True, sharex=True)\n",
        "_ = axs[0].hist(data_1, bins=bins)\n",
        "_ = axs[1].hist(data_2, bins=bins)\n",
        "_ = axs[2].hist(data, bins=bins)\n",
        "for ax in axs: ax.set_xlabel(\"random numbers\")\n",
        "for ax, t in zip(axs, [\"data_1\", \"data_2\", \"data\"]): ax.set_title(t)\n",
        "axs[0].set_ylabel(\"number of occurence\")\n",
        "fig.tight_layout()"
      ]
    },
    {
      "cell_type": "markdown",
      "id": "18e47176-9aba-46d3-91ff-ed14f84b4a57",
      "metadata": {
        "tags": [],
        "id": "18e47176-9aba-46d3-91ff-ed14f84b4a57"
      },
      "source": [
        "##### 1.2 Calculate the mean, median, and mode of ``data`` and store the values in ``data_mean``, ``data_median``, and ``data_mode``. Make sure that ``data_mode`` is of type int:\n",
        "\n",
        "**Hint**: You can use either ``numpy`` or ``scipy.stats`` functions for that."
      ]
    },
    {
      "cell_type": "code",
      "execution_count": 7,
      "id": "229afc3a-23ce-49ab-86e5-84d534bff5c2",
      "metadata": {
        "deletable": false,
        "nbgrader": {
          "cell_type": "code",
          "checksum": "8868425cf778dab1f1b30531d62ebbb4",
          "grade": false,
          "grade_id": "mean_median_mode",
          "locked": false,
          "schema_version": 3,
          "solution": true,
          "task": false
        },
        "tags": [],
        "id": "229afc3a-23ce-49ab-86e5-84d534bff5c2"
      },
      "outputs": [],
      "source": [
        "\n",
        "data_mean = np.mean(data)\n",
        "data_median = np.median(data)\n",
        "data_mode = int(stats.mode(data)[0])"
      ]
    },
    {
      "cell_type": "code",
      "execution_count": 8,
      "id": "f622ffd5-11ec-4cd8-83d0-981609308c7e",
      "metadata": {
        "deletable": false,
        "editable": false,
        "nbgrader": {
          "cell_type": "code",
          "checksum": "3ffb3c8e874a9825df468f1cde19c0d5",
          "grade": true,
          "grade_id": "mean_median_mode_test",
          "locked": true,
          "points": 1,
          "schema_version": 3,
          "solution": false,
          "task": false
        },
        "tags": [],
        "id": "f622ffd5-11ec-4cd8-83d0-981609308c7e"
      },
      "outputs": [],
      "source": [
        "# run test to check your implementation\n",
        "assert type(data_mode) == int, \"Check your conversion to int of data_mode\"\n",
        "assert data_mean > 15 and data_median > 15 and data_mode > 15, \"Check the calculation\""
      ]
    },
    {
      "cell_type": "markdown",
      "id": "0aea1381-19d5-4a63-a2b2-e0403d2798ca",
      "metadata": {
        "tags": [],
        "id": "0aea1381-19d5-4a63-a2b2-e0403d2798ca"
      },
      "source": [
        "##### 1.3 Replace all points of ``data`` that are more than two standard deviations away from the mean with ``data_median`` and save the corrected version as ``data_corrected``:\n",
        "\n",
        "**Hint**: Check out if [scipy.stats.zscore](https://docs.scipy.org/doc/scipy/reference/generated/scipy.stats.zscore.html) can help you with this task."
      ]
    },
    {
      "cell_type": "code",
      "execution_count": 9,
      "id": "6bc40ef8-9a8c-4ca7-9967-d0f9cd068512",
      "metadata": {
        "deletable": false,
        "nbgrader": {
          "cell_type": "code",
          "checksum": "6544ead879d4f170ad00ca1b4e0a2b66",
          "grade": false,
          "grade_id": "outlier_correction",
          "locked": false,
          "schema_version": 3,
          "solution": true,
          "task": false
        },
        "tags": [],
        "id": "6bc40ef8-9a8c-4ca7-9967-d0f9cd068512"
      },
      "outputs": [],
      "source": [
        "\n",
        "z_scores = stats.zscore(data)\n",
        "outlier_mask = np.abs(z_scores) > 2\n",
        "data_corrected = np.where(outlier_mask, data_median, data)"
      ]
    },
    {
      "cell_type": "code",
      "execution_count": 10,
      "id": "128e927d-2a16-48e1-9999-4aa213336b42",
      "metadata": {
        "deletable": false,
        "editable": false,
        "nbgrader": {
          "cell_type": "code",
          "checksum": "e2918b383808bd9c7b76e40baca6e4e3",
          "grade": true,
          "grade_id": "outlier_correction_test",
          "locked": true,
          "points": 1,
          "schema_version": 3,
          "solution": false,
          "task": false
        },
        "tags": [],
        "id": "128e927d-2a16-48e1-9999-4aa213336b42"
      },
      "outputs": [],
      "source": [
        "# run tests to check your implementation\n",
        "assert np.min(data_corrected) > np.min(data) and np.max(data_corrected) < np.max(data), \"Check whether you replaced outliers on both sides of the mean\"\n",
        "assert np.sum(data_corrected == data_median) > 1000, \"Check if you replace all outliers with data_median\""
      ]
    },
    {
      "cell_type": "code",
      "execution_count": 11,
      "id": "7b19bbb0-dfe6-479c-aea7-563e992b7035",
      "metadata": {
        "tags": [],
        "id": "7b19bbb0-dfe6-479c-aea7-563e992b7035",
        "colab": {
          "base_uri": "https://localhost:8080/",
          "height": 307
        },
        "outputId": "5be91349-6e8a-44b3-c352-d0ba54e1eac2"
      },
      "outputs": [
        {
          "output_type": "display_data",
          "data": {
            "text/plain": [
              "<Figure size 600x300 with 2 Axes>"
            ],
            "image/png": "[encoded data removed]"
          },
          "metadata": {}
        }
      ],
      "source": [
        "# run cell to visualize both distributions\n",
        "bins = np.arange(start=0.5, stop=41.5, step=1).tolist()\n",
        "fig, axs = plt.subplots(ncols=2, figsize=(6, 3), sharey=True, sharex=True)\n",
        "_ = axs[0].hist(data, bins=bins)\n",
        "axs[0].set_title(\"original distribution\")\n",
        "axs[0].set_xlabel(\"random numbers\")\n",
        "axs[0].set_ylabel(\"number of occurence\")\n",
        "for val, key, c in zip([data_mean, data_median, data_mode], [\"mean\", \"median\", \"mode\"], [\"tab:orange\", \"tab:green\", \"tab:red\"]):\n",
        "    axs[0].axvline(val, color=c, label=key)\n",
        "axs[0].legend()\n",
        "_ = axs[1].hist(data_corrected, bins=bins)\n",
        "axs[1].set_title(\"outlier corrected distribution\")\n",
        "axs[1].set_xlabel(\"random numbers\")\n",
        "fig.tight_layout()"
      ]
    },
    {
      "cell_type": "markdown",
      "id": "a235f316-2518-4987-af6b-b0079c87b69d",
      "metadata": {
        "id": "a235f316-2518-4987-af6b-b0079c87b69d"
      },
      "source": [
        "#### 2. Questionnaire Analysis\n",
        "In this task, we use a dataset where 38 participants filled out the Positive and Negative Affect Schedule (PANAS) questionnaire before (pre) and after (post) undergoing a study protocol. The PANAS questionnaire is a self-report questionnaire consisting of 20 adjectives (like interested or ashamed) that describe different sensations and feelings. The participants rate all items individually on a 5-point scale indicating how strongly they felt this way. By averaging the scores of 10 of the items, Positive Affect and Negative Affect can be calculated. By averaging the inverted Negative Affect and Positive Affect scores, a Total score over all items can be computed."
      ]
    },
    {
      "cell_type": "code",
      "execution_count": 12,
      "id": "ffd4a008-ab18-479d-ad1b-8e5998e48aa2",
      "metadata": {
        "tags": [],
        "id": "ffd4a008-ab18-479d-ad1b-8e5998e48aa2",
        "colab": {
          "base_uri": "https://localhost:8080/",
          "height": 364,
          "referenced_widgets": [
            "5c25b8607324430b8b9568f65b7aa2a2",
            "cfc2cb2f995540f787ccfe87ef9916d0",
            "16fdf5d91fde438f9054375f2bbb3571",
            "4a4ec6c852a749669a2bba73d0025514",
            "1c2a41b517aa438897178dae5cf3260b",
            "aa5854109383482886ee50d3581e9c5c",
            "942b711c7e3443c9a4d98926a4d18e7c",
            "4f89d50507164f9094cf4adef7123ffb",
            "1300507e559d42ed9b65cf58b58feb7d",
            "c4edd63d1d864c56b355093426d55baa",
            "e782feca1855415498f0b909dfe4134a"
          ]
        },
        "outputId": "9e390d83-a871-4447-8eed-3edb9309e370"
      },
      "outputs": [
        {
          "output_type": "stream",
          "name": "stdout",
          "text": [
            "Downloading file stats_sample.csv from remote URL: https://raw.githubusercontent.com/mad-lab-fau/BioPsyKit/main/example_data/stats_sample.csv.\n"
          ]
        },
        {
          "output_type": "display_data",
          "data": {
            "text/plain": [
              "stats_sample.csv: 0.00B [00:00, ?B/s]"
            ],
            "application/vnd.jupyter.widget-view+json": {
              "version_major": 2,
              "version_minor": 0,
              "model_id": "5c25b8607324430b8b9568f65b7aa2a2"
            }
          },
          "metadata": {}
        },
        {
          "output_type": "display_data",
          "data": {
            "text/plain": [
              "<Figure size 600x300 with 1 Axes>"
            ],
            "image/png": "[encoded data removed]"
          },
          "metadata": {}
        }
      ],
      "source": [
        "# run cell to load and visualize data\n",
        "data_panas = bp.example_data.get_stats_example()\n",
        "fig, ax = plt.subplots(figsize=(6, 3))\n",
        "bp.plotting.feature_boxplot(data=data_panas, x=\"subscale\", y=\"PANAS\", hue=\"time\", hue_order=[\"pre\", \"post\"], ax=ax)\n",
        "fig.tight_layout()"
      ]
    },
    {
      "cell_type": "code",
      "execution_count": 13,
      "id": "8f56bf83-0186-4592-91ad-f8694be79b02",
      "metadata": {
        "tags": [],
        "id": "8f56bf83-0186-4592-91ad-f8694be79b02",
        "colab": {
          "base_uri": "https://localhost:8080/",
          "height": 206
        },
        "outputId": "4eb27c89-614b-413c-a6fc-c5c99a4b607a"
      },
      "outputs": [
        {
          "output_type": "execute_result",
          "data": {
            "text/plain": [
              "  subject        subscale  time  PANAS\n",
              "0    Vp01  NegativeAffect  post    2.2\n",
              "1    Vp01  NegativeAffect   pre    2.2\n",
              "2    Vp01  PositiveAffect  post    2.8\n",
              "3    Vp01  PositiveAffect   pre    2.4\n",
              "4    Vp01           Total  post    3.3"
            ],
            "text/html": [
              "\n",
              "  <div id=\"df-44343495-5abc-4962-87aa-dbaf4a774db4\" class=\"colab-df-container\">\n",
              "    <div>\n",
              "<style scoped>\n",
              "    .dataframe tbody tr th:only-of-type {\n",
              "        vertical-align: middle;\n",
              "    }\n",
              "\n",
              "    .dataframe tbody tr th {\n",
              "        vertical-align: top;\n",
              "    }\n",
              "\n",
              "    .dataframe thead th {\n",
              "        text-align: right;\n",
              "    }\n",
              "</style>\n",
              "<table border=\"1\" class=\"dataframe\">\n",
              "  <thead>\n",
              "    <tr style=\"text-align: right;\">\n",
              "      <th></th>\n",
              "      <th>subject</th>\n",
              "      <th>subscale</th>\n",
              "      <th>time</th>\n",
              "      <th>PANAS</th>\n",
              "    </tr>\n",
              "  </thead>\n",
              "  <tbody>\n",
              "    <tr>\n",
              "      <th>0</th>\n",
              "      <td>Vp01</td>\n",
              "      <td>NegativeAffect</td>\n",
              "      <td>post</td>\n",
              "      <td>2.2</td>\n",
              "    </tr>\n",
              "    <tr>\n",
              "      <th>1</th>\n",
              "      <td>Vp01</td>\n",
              "      <td>NegativeAffect</td>\n",
              "      <td>pre</td>\n",
              "      <td>2.2</td>\n",
              "    </tr>\n",
              "    <tr>\n",
              "      <th>2</th>\n",
              "      <td>Vp01</td>\n",
              "      <td>PositiveAffect</td>\n",
              "      <td>post</td>\n",
              "      <td>2.8</td>\n",
              "    </tr>\n",
              "    <tr>\n",
              "      <th>3</th>\n",
              "      <td>Vp01</td>\n",
              "      <td>PositiveAffect</td>\n",
              "      <td>pre</td>\n",
              "      <td>2.4</td>\n",
              "    </tr>\n",
              "    <tr>\n",
              "      <th>4</th>\n",
              "      <td>Vp01</td>\n",
              "      <td>Total</td>\n",
              "      <td>post</td>\n",
              "      <td>3.3</td>\n",
              "    </tr>\n",
              "  </tbody>\n",
              "</table>\n",
              "</div>\n",
              "    <div class=\"colab-df-buttons\">\n",
              "\n",
              "  <div class=\"colab-df-container\">\n",
              "    <button class=\"colab-df-convert\" onclick=\"convertToInteractive('df-44343495-5abc-4962-87aa-dbaf4a774db4')\"\n",
              "            title=\"Convert this dataframe to an interactive table.\"\n",
              "            style=\"display:none;\">\n",
              "\n",
              "  <svg xmlns=\"http://www.w3.org/2000/svg\" height=\"24px\" viewBox=\"0 -960 960 960\">\n",
              "    <path d=\"M120-120v-720h720v720H120Zm60-500h600v-160H180v160Zm220 220h160v-160H400v160Zm0 220h160v-160H400v160ZM180-400h160v-160H180v160Zm440 0h160v-160H620v160ZM180-180h160v-160H180v160Zm440 0h160v-160H620v160Z\"/>\n",
              "  </svg>\n",
              "    </button>\n",
              "\n",
              "  <style>\n",
              "    .colab-df-container {\n",
              "      display:flex;\n",
              "      gap: 12px;\n",
              "    }\n",
              "\n",
              "    .colab-df-convert {\n",
              "      background-color: #E8F0FE;\n",
              "      border: none;\n",
              "      border-radius: 50%;\n",
              "      cursor: pointer;\n",
              "      display: none;\n",
              "      fill: #1967D2;\n",
              "      height: 32px;\n",
              "      padding: 0 0 0 0;\n",
              "      width: 32px;\n",
              "    }\n",
              "\n",
              "    .colab-df-convert:hover {\n",
              "      background-color: #E2EBFA;\n",
              "      box-shadow: 0px 1px 2px rgba(60, 64, 67, 0.3), 0px 1px 3px 1px rgba(60, 64, 67, 0.15);\n",
              "      fill: #174EA6;\n",
              "    }\n",
              "\n",
              "    .colab-df-buttons div {\n",
              "      margin-bottom: 4px;\n",
              "    }\n",
              "\n",
              "    [theme=dark] .colab-df-convert {\n",
              "      background-color: #3B4455;\n",
              "      fill: #D2E3FC;\n",
              "    }\n",
              "\n",
              "    [theme=dark] .colab-df-convert:hover {\n",
              "      background-color: #434B5C;\n",
              "      box-shadow: 0px 1px 3px 1px rgba(0, 0, 0, 0.15);\n",
              "      filter: drop-shadow(0px 1px 2px rgba(0, 0, 0, 0.3));\n",
              "      fill: #FFFFFF;\n",
              "    }\n",
              "  </style>\n",
              "\n",
              "    <script>\n",
              "      const buttonEl =\n",
              "        document.querySelector('#df-44343495-5abc-4962-87aa-dbaf4a774db4 button.colab-df-convert');\n",
              "      buttonEl.style.display =\n",
              "        google.colab.kernel.accessAllowed ? 'block' : 'none';\n",
              "\n",
              "      async function convertToInteractive(key) {\n",
              "        const element = document.querySelector('#df-44343495-5abc-4962-87aa-dbaf4a774db4');\n",
              "        const dataTable =\n",
              "          await google.colab.kernel.invokeFunction('convertToInteractive',\n",
              "                                                    [key], {});\n",
              "        if (!dataTable) return;\n",
              "\n",
              "        const docLinkHtml = 'Like what you see? Visit the ' +\n",
              "          '<a target=\"_blank\" href=https://colab.research.google.com/notebooks/data_table.ipynb>data table notebook</a>'\n",
              "          + ' to learn more about interactive tables.';\n",
              "        element.innerHTML = '';\n",
              "        dataTable['output_type'] = 'display_data';\n",
              "        await google.colab.output.renderOutput(dataTable, element);\n",
              "        const docLink = document.createElement('div');\n",
              "        docLink.innerHTML = docLinkHtml;\n",
              "        element.appendChild(docLink);\n",
              "      }\n",
              "    </script>\n",
              "  </div>\n",
              "\n",
              "\n",
              "    <div id=\"df-3497809e-d653-4ce6-8129-def7b277b12f\">\n",
              "      <button class=\"colab-df-quickchart\" onclick=\"quickchart('df-3497809e-d653-4ce6-8129-def7b277b12f')\"\n",
              "                title=\"Suggest charts\"\n",
              "                style=\"display:none;\">\n",
              "\n",
              "<svg xmlns=\"http://www.w3.org/2000/svg\" height=\"24px\"viewBox=\"0 0 24 24\"\n",
              "     width=\"24px\">\n",
              "    <g>\n",
              "        <path d=\"M19 3H5c-1.1 0-2 .9-2 2v14c0 1.1.9 2 2 2h14c1.1 0 2-.9 2-2V5c0-1.1-.9-2-2-2zM9 17H7v-7h2v7zm4 0h-2V7h2v10zm4 0h-2v-4h2v4z\"/>\n",
              "    </g>\n",
              "</svg>\n",
              "      </button>\n",
              "\n",
              "<style>\n",
              "  .colab-df-quickchart {\n",
              "      --bg-color: #E8F0FE;\n",
              "      --fill-color: #1967D2;\n",
              "      --hover-bg-color: #E2EBFA;\n",
              "      --hover-fill-color: #174EA6;\n",
              "      --disabled-fill-color: #AAA;\n",
              "      --disabled-bg-color: #DDD;\n",
              "  }\n",
              "\n",
              "  [theme=dark] .colab-df-quickchart {\n",
              "      --bg-color: #3B4455;\n",
              "      --fill-color: #D2E3FC;\n",
              "      --hover-bg-color: #434B5C;\n",
              "      --hover-fill-color: #FFFFFF;\n",
              "      --disabled-bg-color: #3B4455;\n",
              "      --disabled-fill-color: #666;\n",
              "  }\n",
              "\n",
              "  .colab-df-quickchart {\n",
              "    background-color: var(--bg-color);\n",
              "    border: none;\n",
              "    border-radius: 50%;\n",
              "    cursor: pointer;\n",
              "    display: none;\n",
              "    fill: var(--fill-color);\n",
              "    height: 32px;\n",
              "    padding: 0;\n",
              "    width: 32px;\n",
              "  }\n",
              "\n",
              "  .colab-df-quickchart:hover {\n",
              "    background-color: var(--hover-bg-color);\n",
              "    box-shadow: 0 1px 2px rgba(60, 64, 67, 0.3), 0 1px 3px 1px rgba(60, 64, 67, 0.15);\n",
              "    fill: var(--button-hover-fill-color);\n",
              "  }\n",
              "\n",
              "  .colab-df-quickchart-complete:disabled,\n",
              "  .colab-df-quickchart-complete:disabled:hover {\n",
              "    background-color: var(--disabled-bg-color);\n",
              "    fill: var(--disabled-fill-color);\n",
              "    box-shadow: none;\n",
              "  }\n",
              "\n",
              "  .colab-df-spinner {\n",
              "    border: 2px solid var(--fill-color);\n",
              "    border-color: transparent;\n",
              "    border-bottom-color: var(--fill-color);\n",
              "    animation:\n",
              "      spin 1s steps(1) infinite;\n",
              "  }\n",
              "\n",
              "  @keyframes spin {\n",
              "    0% {\n",
              "      border-color: transparent;\n",
              "      border-bottom-color: var(--fill-color);\n",
              "      border-left-color: var(--fill-color);\n",
              "    }\n",
              "    20% {\n",
              "      border-color: transparent;\n",
              "      border-left-color: var(--fill-color);\n",
              "      border-top-color: var(--fill-color);\n",
              "    }\n",
              "    30% {\n",
              "      border-color: transparent;\n",
              "      border-left-color: var(--fill-color);\n",
              "      border-top-color: var(--fill-color);\n",
              "      border-right-color: var(--fill-color);\n",
              "    }\n",
              "    40% {\n",
              "      border-color: transparent;\n",
              "      border-right-color: var(--fill-color);\n",
              "      border-top-color: var(--fill-color);\n",
              "    }\n",
              "    60% {\n",
              "      border-color: transparent;\n",
              "      border-right-color: var(--fill-color);\n",
              "    }\n",
              "    80% {\n",
              "      border-color: transparent;\n",
              "      border-right-color: var(--fill-color);\n",
              "      border-bottom-color: var(--fill-color);\n",
              "    }\n",
              "    90% {\n",
              "      border-color: transparent;\n",
              "      border-bottom-color: var(--fill-color);\n",
              "    }\n",
              "  }\n",
              "</style>\n",
              "\n",
              "      <script>\n",
              "        async function quickchart(key) {\n",
              "          const quickchartButtonEl =\n",
              "            document.querySelector('#' + key + ' button');\n",
              "          quickchartButtonEl.disabled = true;  // To prevent multiple clicks.\n",
              "          quickchartButtonEl.classList.add('colab-df-spinner');\n",
              "          try {\n",
              "            const charts = await google.colab.kernel.invokeFunction(\n",
              "                'suggestCharts', [key], {});\n",
              "          } catch (error) {\n",
              "            console.error('Error during call to suggestCharts:', error);\n",
              "          }\n",
              "          quickchartButtonEl.classList.remove('colab-df-spinner');\n",
              "          quickchartButtonEl.classList.add('colab-df-quickchart-complete');\n",
              "        }\n",
              "        (() => {\n",
              "          let quickchartButtonEl =\n",
              "            document.querySelector('#df-3497809e-d653-4ce6-8129-def7b277b12f button');\n",
              "          quickchartButtonEl.style.display =\n",
              "            google.colab.kernel.accessAllowed ? 'block' : 'none';\n",
              "        })();\n",
              "      </script>\n",
              "    </div>\n",
              "\n",
              "    </div>\n",
              "  </div>\n"
            ],
            "application/vnd.google.colaboratory.intrinsic+json": {
              "type": "dataframe",
              "variable_name": "data_analysis",
              "summary": "{\n  \"name\": \"data_analysis\",\n  \"rows\": 228,\n  \"fields\": [\n    {\n      \"column\": \"subject\",\n      \"properties\": {\n        \"dtype\": \"category\",\n        \"num_unique_values\": 38,\n        \"samples\": [\n          \"Vp36\",\n          \"Vp39\",\n          \"Vp05\"\n        ],\n        \"semantic_type\": \"\",\n        \"description\": \"\"\n      }\n    },\n    {\n      \"column\": \"subscale\",\n      \"properties\": {\n        \"dtype\": \"category\",\n        \"num_unique_values\": 3,\n        \"samples\": [\n          \"NegativeAffect\",\n          \"PositiveAffect\",\n          \"Total\"\n        ],\n        \"semantic_type\": \"\",\n        \"description\": \"\"\n      }\n    },\n    {\n      \"column\": \"time\",\n      \"properties\": {\n        \"dtype\": \"category\",\n        \"num_unique_values\": 2,\n        \"samples\": [\n          \"pre\",\n          \"post\"\n        ],\n        \"semantic_type\": \"\",\n        \"description\": \"\"\n      }\n    },\n    {\n      \"column\": \"PANAS\",\n      \"properties\": {\n        \"dtype\": \"number\",\n        \"std\": 0.5445925749823141,\n        \"min\": 1.3,\n        \"max\": 4.1,\n        \"num_unique_values\": 35,\n        \"samples\": [\n          2.85,\n          3.55\n        ],\n        \"semantic_type\": \"\",\n        \"description\": \"\"\n      }\n    }\n  ]\n}"
            }
          },
          "metadata": {},
          "execution_count": 13
        }
      ],
      "source": [
        "# run cell to visualize the data frame structure\n",
        "data_analysis = data_panas.reset_index()\n",
        "data_analysis.head()"
      ]
    },
    {
      "cell_type": "markdown",
      "id": "8311c81e-b5e7-416c-b4dc-3c9046ac982e",
      "metadata": {
        "id": "8311c81e-b5e7-416c-b4dc-3c9046ac982e"
      },
      "source": [
        "##### 2.1 Perform a statistical analysis for the PANAS data stored in ``data_analysis`` to test for differences between group means (differences between pre and post questionnaires separately for all the subscales):\n",
        "* Follow the guidelines described in the lecture slides or provided by [pingouin](https://pingouin-stats.org/build/html/guidelines.html)\n",
        "* You should use the ``pingouin`` functions for your analysis\n",
        "* Store your results in a data frame called ``results_statistics``\n",
        "    * ``results_statistics`` should have one row for the results of every subscale and all the outputs of the ``pingouin`` function as columns\n",
        "    * Set the subscales as the indices of ``results_statistics``\n",
        "\n",
        "**Hint**: The [pingouin guidelines](https://pingouin-stats.org/build/html/guidelines.html) already show the respective *functions* for the statistical tests."
      ]
    },
    {
      "cell_type": "code",
      "execution_count": 14,
      "id": "33698d3e-8ed0-4a54-b283-2758bc057718",
      "metadata": {
        "deletable": false,
        "nbgrader": {
          "cell_type": "code",
          "checksum": "1ea32b64643eaf6fba2ba4143db519d7",
          "grade": false,
          "grade_id": "stats_question",
          "locked": false,
          "schema_version": 3,
          "solution": true,
          "task": false
        },
        "tags": [],
        "id": "33698d3e-8ed0-4a54-b283-2758bc057718",
        "colab": {
          "base_uri": "https://localhost:8080/"
        },
        "outputId": "1eeef14b-da57-4e07-8f9c-00142c50f7df"
      },
      "outputs": [
        {
          "output_type": "stream",
          "name": "stderr",
          "text": [
            "/usr/local/lib/python3.11/dist-packages/pingouin/pairwise.py:28: UserWarning: pairwise_ttests is deprecated, use pairwise_tests instead.\n",
            "  warnings.warn(\"pairwise_ttests is deprecated, use pairwise_tests instead.\", UserWarning)\n",
            "/usr/local/lib/python3.11/dist-packages/pingouin/pairwise.py:28: UserWarning: pairwise_ttests is deprecated, use pairwise_tests instead.\n",
            "  warnings.warn(\"pairwise_ttests is deprecated, use pairwise_tests instead.\", UserWarning)\n",
            "/usr/local/lib/python3.11/dist-packages/pingouin/pairwise.py:28: UserWarning: pairwise_ttests is deprecated, use pairwise_tests instead.\n",
            "  warnings.warn(\"pairwise_ttests is deprecated, use pairwise_tests instead.\", UserWarning)\n"
          ]
        }
      ],
      "source": [
        "\n",
        "results_list = []\n",
        "for subscale in data_analysis[\"subscale\"].unique():\n",
        "    subscale_data = data_analysis[data_analysis[\"subscale\"] == subscale]\n",
        "    result = pg.pairwise_ttests(data=subscale_data, dv=\"PANAS\", within=\"time\", subject=\"subject\")\n",
        "    result[\"subscale\"] = subscale\n",
        "    results_list.append(result)\n",
        "\n",
        "results_statistics = pd.concat(results_list).set_index(\"subscale\")"
      ]
    },
    {
      "cell_type": "code",
      "execution_count": 15,
      "id": "3115483b-9db3-493d-896e-75b22a3adf76",
      "metadata": {
        "deletable": false,
        "editable": false,
        "nbgrader": {
          "cell_type": "code",
          "checksum": "c59e930f34ff9c3e5562d104b0d597b1",
          "grade": true,
          "grade_id": "stats_question_test",
          "locked": true,
          "points": 2,
          "schema_version": 3,
          "solution": false,
          "task": false
        },
        "tags": [],
        "id": "3115483b-9db3-493d-896e-75b22a3adf76"
      },
      "outputs": [],
      "source": [
        "# run tests to check your implementation\n",
        "assert type(results_statistics) == pd.DataFrame, \"Check if results_statistics is of type pandas.DataFrame\"\n",
        "assert results_statistics.shape[0] == 3, \"Check if you performed and stored the results for all subscales\"\n",
        "assert list(results_statistics.index) == [\"NegativeAffect\", \"PositiveAffect\", \"Total\"], \"Check if you set the indices correctly\"\n",
        "assert results_statistics[\"Paired\"].sum() == 3, \"Check your analysis parameters\"\n",
        "assert list(results_statistics[\"Contrast\"])[0] == \"time\" and list(results_statistics[\"A\"])[0] == \"post\" and list(results_statistics[\"B\"])[0] == \"pre\", \"Check your analysis parameters\"\n",
        "pval = list(results_statistics[\"p-unc\"])\n",
        "assert pval[0] < 0.2 and pval[1] < 0.0000006 and pval[2] < 0.000000007, \"Check your analysis parameters\""
      ]
    },
    {
      "cell_type": "markdown",
      "id": "386e5dcf-7d3d-46f9-a8b9-cf424f4ca762",
      "metadata": {
        "id": "386e5dcf-7d3d-46f9-a8b9-cf424f4ca762"
      },
      "source": [
        "#### 3. Cortisol Analysis\n",
        "In this task, we will use data from the same study as in the last assignment, which investigated the capability of the Cold Face Test (CFT) to reduce acute stress. Two groups underwent a similar study protocol, while the Control group performed a resting period and the Intervention group a CFT between study phases. This time we will not look at heart rate data but at cortisol values extracted from saliva samples that have been taken before and after the study phase."
      ]
    },
    {
      "cell_type": "code",
      "execution_count": 16,
      "id": "bb8033c8-dd1b-4cc0-ae64-69dc2ba3c635",
      "metadata": {
        "tags": [],
        "id": "bb8033c8-dd1b-4cc0-ae64-69dc2ba3c635",
        "colab": {
          "base_uri": "https://localhost:8080/",
          "height": 355,
          "referenced_widgets": [
            "3b90b911cbec4089ae1d123a38fa3992",
            "f8e91905086949c985a54a235ee75675",
            "4b6088b2e3b441e99428206ac89ddbcd",
            "48df8a484d8b4e0d86eb89399e8d3288",
            "40cee81876f44f338e195edba611642d",
            "91ddcbd8919b4a37bb8c4af75fe4fe0e",
            "5841fa17b1c64c1d8777a76c0ea7400c",
            "caa3906580604f869d03fcc5954f2472",
            "3f40220e8b5c431b83cc751bc1cf252e",
            "8b3307a4a4df4996adedf7b5973dcbc1",
            "10dea711cbd74978a474e481a9b1bb25"
          ]
        },
        "outputId": "e68448ba-03a9-4f21-dfd8-f1a55fbae2e0"
      },
      "outputs": [
        {
          "output_type": "stream",
          "name": "stdout",
          "text": [
            "Downloading file cortisol_sample.csv from remote URL: https://raw.githubusercontent.com/mad-lab-fau/BioPsyKit/main/example_data/cortisol_sample.csv.\n"
          ]
        },
        {
          "output_type": "display_data",
          "data": {
            "text/plain": [
              "cortisol_sample.csv: 0.00B [00:00, ?B/s]"
            ],
            "application/vnd.jupyter.widget-view+json": {
              "version_major": 2,
              "version_minor": 0,
              "model_id": "3b90b911cbec4089ae1d123a38fa3992"
            }
          },
          "metadata": {}
        },
        {
          "output_type": "display_data",
          "data": {
            "text/plain": [
              "<Figure size 600x300 with 1 Axes>"
            ],
            "image/png": "[encoded data removed]"
          },
          "metadata": {}
        }
      ],
      "source": [
        "# run cell to load and visualize data\n",
        "data_cortisol = bp.example_data.get_saliva_example()\n",
        "sample_times = [-30, -1, 30, 40, 50, 60, 70]\n",
        "fig, ax = plt.subplots(figsize=(6, 3))\n",
        "bp.protocols.plotting.saliva_plot(\n",
        "    data=data_cortisol, saliva_type=\"cortisol\", sample_times=sample_times, test_times=[0, 30], sample_times_absolute=True,\n",
        "    test_title=\"Study Phase\", ax=ax,\n",
        ");"
      ]
    },
    {
      "cell_type": "code",
      "execution_count": 17,
      "id": "e4c73c9e-e1be-45e2-a228-1ec8c812fa27",
      "metadata": {
        "tags": [],
        "id": "e4c73c9e-e1be-45e2-a228-1ec8c812fa27",
        "colab": {
          "base_uri": "https://localhost:8080/",
          "height": 206
        },
        "outputId": "c03ce7a8-7414-446c-8977-fe3fae6ebb93"
      },
      "outputs": [
        {
          "output_type": "execute_result",
          "data": {
            "text/plain": [
              "  condition subject saliva_feature    cortisol\n",
              "0   Control    Vp03          auc_g  870.418075\n",
              "1   Control    Vp03          auc_i  -72.035925\n",
              "2   Control    Vp03     auc_i_post  104.057250\n",
              "3   Control    Vp03        max_inc    0.956000\n",
              "4   Control    Vp03        slope14    0.013971"
            ],
            "text/html": [
              "\n",
              "  <div id=\"df-cf18ca46-b1b7-4662-b06a-b486e0aa0e55\" class=\"colab-df-container\">\n",
              "    <div>\n",
              "<style scoped>\n",
              "    .dataframe tbody tr th:only-of-type {\n",
              "        vertical-align: middle;\n",
              "    }\n",
              "\n",
              "    .dataframe tbody tr th {\n",
              "        vertical-align: top;\n",
              "    }\n",
              "\n",
              "    .dataframe thead th {\n",
              "        text-align: right;\n",
              "    }\n",
              "</style>\n",
              "<table border=\"1\" class=\"dataframe\">\n",
              "  <thead>\n",
              "    <tr style=\"text-align: right;\">\n",
              "      <th></th>\n",
              "      <th>condition</th>\n",
              "      <th>subject</th>\n",
              "      <th>saliva_feature</th>\n",
              "      <th>cortisol</th>\n",
              "    </tr>\n",
              "  </thead>\n",
              "  <tbody>\n",
              "    <tr>\n",
              "      <th>0</th>\n",
              "      <td>Control</td>\n",
              "      <td>Vp03</td>\n",
              "      <td>auc_g</td>\n",
              "      <td>870.418075</td>\n",
              "    </tr>\n",
              "    <tr>\n",
              "      <th>1</th>\n",
              "      <td>Control</td>\n",
              "      <td>Vp03</td>\n",
              "      <td>auc_i</td>\n",
              "      <td>-72.035925</td>\n",
              "    </tr>\n",
              "    <tr>\n",
              "      <th>2</th>\n",
              "      <td>Control</td>\n",
              "      <td>Vp03</td>\n",
              "      <td>auc_i_post</td>\n",
              "      <td>104.057250</td>\n",
              "    </tr>\n",
              "    <tr>\n",
              "      <th>3</th>\n",
              "      <td>Control</td>\n",
              "      <td>Vp03</td>\n",
              "      <td>max_inc</td>\n",
              "      <td>0.956000</td>\n",
              "    </tr>\n",
              "    <tr>\n",
              "      <th>4</th>\n",
              "      <td>Control</td>\n",
              "      <td>Vp03</td>\n",
              "      <td>slope14</td>\n",
              "      <td>0.013971</td>\n",
              "    </tr>\n",
              "  </tbody>\n",
              "</table>\n",
              "</div>\n",
              "    <div class=\"colab-df-buttons\">\n",
              "\n",
              "  <div class=\"colab-df-container\">\n",
              "    <button class=\"colab-df-convert\" onclick=\"convertToInteractive('df-cf18ca46-b1b7-4662-b06a-b486e0aa0e55')\"\n",
              "            title=\"Convert this dataframe to an interactive table.\"\n",
              "            style=\"display:none;\">\n",
              "\n",
              "  <svg xmlns=\"http://www.w3.org/2000/svg\" height=\"24px\" viewBox=\"0 -960 960 960\">\n",
              "    <path d=\"M120-120v-720h720v720H120Zm60-500h600v-160H180v160Zm220 220h160v-160H400v160Zm0 220h160v-160H400v160ZM180-400h160v-160H180v160Zm440 0h160v-160H620v160ZM180-180h160v-160H180v160Zm440 0h160v-160H620v160Z\"/>\n",
              "  </svg>\n",
              "    </button>\n",
              "\n",
              "  <style>\n",
              "    .colab-df-container {\n",
              "      display:flex;\n",
              "      gap: 12px;\n",
              "    }\n",
              "\n",
              "    .colab-df-convert {\n",
              "      background-color: #E8F0FE;\n",
              "      border: none;\n",
              "      border-radius: 50%;\n",
              "      cursor: pointer;\n",
              "      display: none;\n",
              "      fill: #1967D2;\n",
              "      height: 32px;\n",
              "      padding: 0 0 0 0;\n",
              "      width: 32px;\n",
              "    }\n",
              "\n",
              "    .colab-df-convert:hover {\n",
              "      background-color: #E2EBFA;\n",
              "      box-shadow: 0px 1px 2px rgba(60, 64, 67, 0.3), 0px 1px 3px 1px rgba(60, 64, 67, 0.15);\n",
              "      fill: #174EA6;\n",
              "    }\n",
              "\n",
              "    .colab-df-buttons div {\n",
              "      margin-bottom: 4px;\n",
              "    }\n",
              "\n",
              "    [theme=dark] .colab-df-convert {\n",
              "      background-color: #3B4455;\n",
              "      fill: #D2E3FC;\n",
              "    }\n",
              "\n",
              "    [theme=dark] .colab-df-convert:hover {\n",
              "      background-color: #434B5C;\n",
              "      box-shadow: 0px 1px 3px 1px rgba(0, 0, 0, 0.15);\n",
              "      filter: drop-shadow(0px 1px 2px rgba(0, 0, 0, 0.3));\n",
              "      fill: #FFFFFF;\n",
              "    }\n",
              "  </style>\n",
              "\n",
              "    <script>\n",
              "      const buttonEl =\n",
              "        document.querySelector('#df-cf18ca46-b1b7-4662-b06a-b486e0aa0e55 button.colab-df-convert');\n",
              "      buttonEl.style.display =\n",
              "        google.colab.kernel.accessAllowed ? 'block' : 'none';\n",
              "\n",
              "      async function convertToInteractive(key) {\n",
              "        const element = document.querySelector('#df-cf18ca46-b1b7-4662-b06a-b486e0aa0e55');\n",
              "        const dataTable =\n",
              "          await google.colab.kernel.invokeFunction('convertToInteractive',\n",
              "                                                    [key], {});\n",
              "        if (!dataTable) return;\n",
              "\n",
              "        const docLinkHtml = 'Like what you see? Visit the ' +\n",
              "          '<a target=\"_blank\" href=https://colab.research.google.com/notebooks/data_table.ipynb>data table notebook</a>'\n",
              "          + ' to learn more about interactive tables.';\n",
              "        element.innerHTML = '';\n",
              "        dataTable['output_type'] = 'display_data';\n",
              "        await google.colab.output.renderOutput(dataTable, element);\n",
              "        const docLink = document.createElement('div');\n",
              "        docLink.innerHTML = docLinkHtml;\n",
              "        element.appendChild(docLink);\n",
              "      }\n",
              "    </script>\n",
              "  </div>\n",
              "\n",
              "\n",
              "    <div id=\"df-8fa086e2-d6eb-4338-9cf8-0ce5d837a1e5\">\n",
              "      <button class=\"colab-df-quickchart\" onclick=\"quickchart('df-8fa086e2-d6eb-4338-9cf8-0ce5d837a1e5')\"\n",
              "                title=\"Suggest charts\"\n",
              "                style=\"display:none;\">\n",
              "\n",
              "<svg xmlns=\"http://www.w3.org/2000/svg\" height=\"24px\"viewBox=\"0 0 24 24\"\n",
              "     width=\"24px\">\n",
              "    <g>\n",
              "        <path d=\"M19 3H5c-1.1 0-2 .9-2 2v14c0 1.1.9 2 2 2h14c1.1 0 2-.9 2-2V5c0-1.1-.9-2-2-2zM9 17H7v-7h2v7zm4 0h-2V7h2v10zm4 0h-2v-4h2v4z\"/>\n",
              "    </g>\n",
              "</svg>\n",
              "      </button>\n",
              "\n",
              "<style>\n",
              "  .colab-df-quickchart {\n",
              "      --bg-color: #E8F0FE;\n",
              "      --fill-color: #1967D2;\n",
              "      --hover-bg-color: #E2EBFA;\n",
              "      --hover-fill-color: #174EA6;\n",
              "      --disabled-fill-color: #AAA;\n",
              "      --disabled-bg-color: #DDD;\n",
              "  }\n",
              "\n",
              "  [theme=dark] .colab-df-quickchart {\n",
              "      --bg-color: #3B4455;\n",
              "      --fill-color: #D2E3FC;\n",
              "      --hover-bg-color: #434B5C;\n",
              "      --hover-fill-color: #FFFFFF;\n",
              "      --disabled-bg-color: #3B4455;\n",
              "      --disabled-fill-color: #666;\n",
              "  }\n",
              "\n",
              "  .colab-df-quickchart {\n",
              "    background-color: var(--bg-color);\n",
              "    border: none;\n",
              "    border-radius: 50%;\n",
              "    cursor: pointer;\n",
              "    display: none;\n",
              "    fill: var(--fill-color);\n",
              "    height: 32px;\n",
              "    padding: 0;\n",
              "    width: 32px;\n",
              "  }\n",
              "\n",
              "  .colab-df-quickchart:hover {\n",
              "    background-color: var(--hover-bg-color);\n",
              "    box-shadow: 0 1px 2px rgba(60, 64, 67, 0.3), 0 1px 3px 1px rgba(60, 64, 67, 0.15);\n",
              "    fill: var(--button-hover-fill-color);\n",
              "  }\n",
              "\n",
              "  .colab-df-quickchart-complete:disabled,\n",
              "  .colab-df-quickchart-complete:disabled:hover {\n",
              "    background-color: var(--disabled-bg-color);\n",
              "    fill: var(--disabled-fill-color);\n",
              "    box-shadow: none;\n",
              "  }\n",
              "\n",
              "  .colab-df-spinner {\n",
              "    border: 2px solid var(--fill-color);\n",
              "    border-color: transparent;\n",
              "    border-bottom-color: var(--fill-color);\n",
              "    animation:\n",
              "      spin 1s steps(1) infinite;\n",
              "  }\n",
              "\n",
              "  @keyframes spin {\n",
              "    0% {\n",
              "      border-color: transparent;\n",
              "      border-bottom-color: var(--fill-color);\n",
              "      border-left-color: var(--fill-color);\n",
              "    }\n",
              "    20% {\n",
              "      border-color: transparent;\n",
              "      border-left-color: var(--fill-color);\n",
              "      border-top-color: var(--fill-color);\n",
              "    }\n",
              "    30% {\n",
              "      border-color: transparent;\n",
              "      border-left-color: var(--fill-color);\n",
              "      border-top-color: var(--fill-color);\n",
              "      border-right-color: var(--fill-color);\n",
              "    }\n",
              "    40% {\n",
              "      border-color: transparent;\n",
              "      border-right-color: var(--fill-color);\n",
              "      border-top-color: var(--fill-color);\n",
              "    }\n",
              "    60% {\n",
              "      border-color: transparent;\n",
              "      border-right-color: var(--fill-color);\n",
              "    }\n",
              "    80% {\n",
              "      border-color: transparent;\n",
              "      border-right-color: var(--fill-color);\n",
              "      border-bottom-color: var(--fill-color);\n",
              "    }\n",
              "    90% {\n",
              "      border-color: transparent;\n",
              "      border-bottom-color: var(--fill-color);\n",
              "    }\n",
              "  }\n",
              "</style>\n",
              "\n",
              "      <script>\n",
              "        async function quickchart(key) {\n",
              "          const quickchartButtonEl =\n",
              "            document.querySelector('#' + key + ' button');\n",
              "          quickchartButtonEl.disabled = true;  // To prevent multiple clicks.\n",
              "          quickchartButtonEl.classList.add('colab-df-spinner');\n",
              "          try {\n",
              "            const charts = await google.colab.kernel.invokeFunction(\n",
              "                'suggestCharts', [key], {});\n",
              "          } catch (error) {\n",
              "            console.error('Error during call to suggestCharts:', error);\n",
              "          }\n",
              "          quickchartButtonEl.classList.remove('colab-df-spinner');\n",
              "          quickchartButtonEl.classList.add('colab-df-quickchart-complete');\n",
              "        }\n",
              "        (() => {\n",
              "          let quickchartButtonEl =\n",
              "            document.querySelector('#df-8fa086e2-d6eb-4338-9cf8-0ce5d837a1e5 button');\n",
              "          quickchartButtonEl.style.display =\n",
              "            google.colab.kernel.accessAllowed ? 'block' : 'none';\n",
              "        })();\n",
              "      </script>\n",
              "    </div>\n",
              "\n",
              "    </div>\n",
              "  </div>\n"
            ],
            "application/vnd.google.colaboratory.intrinsic+json": {
              "type": "dataframe",
              "variable_name": "data_analysis",
              "summary": "{\n  \"name\": \"data_analysis\",\n  \"rows\": 130,\n  \"fields\": [\n    {\n      \"column\": \"condition\",\n      \"properties\": {\n        \"dtype\": \"category\",\n        \"num_unique_values\": 2,\n        \"samples\": [\n          \"Intervention\",\n          \"Control\"\n        ],\n        \"semantic_type\": \"\",\n        \"description\": \"\"\n      }\n    },\n    {\n      \"column\": \"subject\",\n      \"properties\": {\n        \"dtype\": \"category\",\n        \"num_unique_values\": 26,\n        \"samples\": [\n          \"Vp24\",\n          \"Vp05\"\n        ],\n        \"semantic_type\": \"\",\n        \"description\": \"\"\n      }\n    },\n    {\n      \"column\": \"saliva_feature\",\n      \"properties\": {\n        \"dtype\": \"category\",\n        \"num_unique_values\": 5,\n        \"samples\": [\n          \"auc_i\",\n          \"slope14\"\n        ],\n        \"semantic_type\": \"\",\n        \"description\": \"\"\n      }\n    },\n    {\n      \"column\": \"cortisol\",\n      \"properties\": {\n        \"dtype\": \"number\",\n        \"std\": 209.70991200286363,\n        \"min\": -256.669625,\n        \"max\": 943.6542249999999,\n        \"num_unique_values\": 130,\n        \"samples\": [\n          219.9663,\n          943.6542249999999\n        ],\n        \"semantic_type\": \"\",\n        \"description\": \"\"\n      }\n    }\n  ]\n}"
            }
          },
          "metadata": {},
          "execution_count": 17
        }
      ],
      "source": [
        "# run cell to extract features from cortisol data using BioPsyKit\n",
        "auc = bp.saliva.auc(\n",
        "    data_cortisol, saliva_type=\"cortisol\", sample_times=sample_times, compute_auc_post=True, remove_s0=True\n",
        ")\n",
        "max_inc = bp.saliva.max_increase(data_cortisol, saliva_type=\"cortisol\", remove_s0=True)\n",
        "slope = bp.saliva.slope(data_cortisol, sample_idx=[1, 4], sample_times=sample_times, saliva_type=\"cortisol\")\n",
        "\n",
        "cort_features = pd.concat([auc, max_inc, slope], axis=1)\n",
        "cort_features = bp.saliva.utils.saliva_feature_wide_to_long(cort_features, saliva_type=\"cortisol\")\n",
        "data_analysis = cort_features.reset_index()\n",
        "data_analysis.head()"
      ]
    },
    {
      "cell_type": "markdown",
      "id": "05f8f8b6-9d29-460b-9312-72e46a282f5e",
      "metadata": {
        "id": "05f8f8b6-9d29-460b-9312-72e46a282f5e"
      },
      "source": [
        "##### 3.1 Preparatory Analysis 1: Perform a Normality Check on ``data_analysis`` to test whether our samples come from a normal distribution:\n",
        "* Use the [pingouin.normality](https://pingouin-stats.org/build/html/generated/pingouin.normality.html) function\n",
        "* Perform the check for every feature-condition combination\n",
        "* Store your results in a data frame called ``results_normality``\n",
        "    * ``results_normality`` should have one row for every feature-condition combination and all the outputs of the pingouin function as columns\n",
        "    * Set the index of ``results_normality`` to ``saliva_feature`` and ``condition`` (in this order), set the index names accordingly\n",
        "* Sort the index of ``results_normality`` after performing all the tests"
      ]
    },
    {
      "cell_type": "code",
      "source": [
        "if not hasattr(np, \"trapezoid\"):\n",
        "    np.trapezoid = np.trapz"
      ],
      "metadata": {
        "id": "lrPk62-0LV9Y"
      },
      "id": "lrPk62-0LV9Y",
      "execution_count": 20,
      "outputs": []
    },
    {
      "cell_type": "code",
      "execution_count": 21,
      "id": "6563e4e9-6db3-4f7a-a71b-55bbfcca02f1",
      "metadata": {
        "deletable": false,
        "nbgrader": {
          "cell_type": "code",
          "checksum": "2821704964cafc9693531f868a881d6f",
          "grade": false,
          "grade_id": "norm_cortisol",
          "locked": false,
          "schema_version": 3,
          "solution": true,
          "task": false
        },
        "tags": [],
        "id": "6563e4e9-6db3-4f7a-a71b-55bbfcca02f1"
      },
      "outputs": [],
      "source": [
        "# Collect results\n",
        "normality_results = []\n",
        "\n",
        "# Group and apply normality test\n",
        "for (feature, condition), group in data_analysis.groupby([\"saliva_feature\", \"condition\"]):\n",
        "    result = pg.normality(group[\"cortisol\"])\n",
        "\n",
        "    # Extract W, pval, normal from the result\n",
        "    normality_results.append({\n",
        "        \"saliva_feature\": feature,\n",
        "        \"condition\": condition,\n",
        "        \"W\": result.loc[\"cortisol\", \"W\"],\n",
        "        \"pval\": result.loc[\"cortisol\", \"pval\"],\n",
        "        \"normal\": result.loc[\"cortisol\", \"normal\"]\n",
        "    })\n",
        "\n",
        "# Convert to DataFrame\n",
        "results_normality = pd.DataFrame(normality_results)\n",
        "\n",
        "# Set multi-index and sort\n",
        "results_normality.set_index([\"saliva_feature\", \"condition\"], inplace=True)\n",
        "results_normality.sort_index(inplace=True)"
      ]
    },
    {
      "cell_type": "code",
      "execution_count": 22,
      "id": "f7f91493-e671-44fd-ba52-642bc65a39ea",
      "metadata": {
        "deletable": false,
        "editable": false,
        "nbgrader": {
          "cell_type": "code",
          "checksum": "6849c336cfe7170fe19b01d863c3195a",
          "grade": true,
          "grade_id": "norm_cortisol_test",
          "locked": true,
          "points": 2,
          "schema_version": 3,
          "solution": false,
          "task": false
        },
        "tags": [],
        "id": "f7f91493-e671-44fd-ba52-642bc65a39ea"
      },
      "outputs": [],
      "source": [
        "# run tests to check your implementation\n",
        "assert type(results_normality) == pd.DataFrame, \"Check if results_normality is of type pandas.DataFrame\"\n",
        "assert results_normality.shape[0] == 10, \"Check if you performed and stored the results for all condition-saliva feature combinations\"\n",
        "assert list(results_normality.index.names) == [\"saliva_feature\", \"condition\"], \"Check if you set the names and order of your indices correctly, saliva_feature comes first\"\n",
        "assert list(results_normality.columns) == [\"W\", \"pval\", \"normal\"], \"Check if you performed the right analysis\"\n",
        "assert type(results_normality.index) == pd.MultiIndex and list(results_normality.index.names) == [\"saliva_feature\", \"condition\"], \"Check if you set saliva feature and condition as index\"\n",
        "assert list(results_normality.index.get_level_values(1)) == [\"Control\", \"Intervention\"] * 5, \"Check if you sorted your index\"\n",
        "assert results_normality[\"normal\"].to_list() == [True, True, False, True, False, True, False, True, False, True], \"Check if you set the parameters correctly\""
      ]
    },
    {
      "cell_type": "markdown",
      "id": "e7614cf3-b62c-4573-9e3a-2aeed76e87d3",
      "metadata": {
        "id": "e7614cf3-b62c-4573-9e3a-2aeed76e87d3"
      },
      "source": [
        "##### 3.2 Preparatory Analysis 2: Perform a Homoscedasticity Check on ``data_analysis`` to test for the equality of variances:\n",
        "* Use the [pingouin.homoscedasticity](https://pingouin-stats.org/build/html/generated/pingouin.homoscedasticity.html#pingouin.homoscedasticity) function\n",
        "* Perform the check for every feature\n",
        "* Store your results in a data frame called ``results_variance``\n",
        "    * ``results_variance`` should have one row for every feature and all the outputs of the pingouin function as columns\n",
        "    * Set the saliva features as the indices of ``results_variance``"
      ]
    },
    {
      "cell_type": "code",
      "execution_count": 23,
      "id": "1a322a96-180f-4c32-a6c5-b05eda6ef1ca",
      "metadata": {
        "deletable": false,
        "nbgrader": {
          "cell_type": "code",
          "checksum": "4f18026dd24235e01db884064b411f63",
          "grade": false,
          "grade_id": "var_cortisol",
          "locked": false,
          "schema_version": 3,
          "solution": true,
          "task": false
        },
        "tags": [],
        "id": "1a322a96-180f-4c32-a6c5-b05eda6ef1ca"
      },
      "outputs": [],
      "source": [
        "# Prepare a list to collect results\n",
        "var_results = []\n",
        "\n",
        "# Loop over each saliva feature\n",
        "for feature in data_analysis['saliva_feature'].unique():\n",
        "    # Subset the data for this feature\n",
        "    df_feat = data_analysis[data_analysis['saliva_feature'] == feature]\n",
        "\n",
        "    # Perform homoscedasticity (Levene’s) test on 'value' by 'condition'\n",
        "    res = pg.homoscedasticity(data=df_feat, dv='cortisol', group='condition')\n",
        "\n",
        "    # Bring the single-row result into a dict and tag with feature name\n",
        "    row = res.loc['levene'].to_dict()\n",
        "    row['saliva_feature'] = feature\n",
        "    var_results.append(row)\n",
        "\n",
        "# Build the DataFrame and set the index\n",
        "results_variance = (\n",
        "    pd.DataFrame(var_results)\n",
        "      .set_index('saliva_feature')\n",
        "      .sort_index()\n",
        ")\n",
        "\n",
        "# Now results_variance has one row per feature, index=saliva_feature,\n",
        "# and all columns returned by pingouin.homoscedasticity (e.g. F, pval, DDof1, DDof2)."
      ]
    },
    {
      "cell_type": "code",
      "execution_count": 24,
      "id": "98e7b749-ec07-47d1-985e-f557a2afc6a9",
      "metadata": {
        "deletable": false,
        "editable": false,
        "nbgrader": {
          "cell_type": "code",
          "checksum": "aee7da21c71f92d46a3160883a30d918",
          "grade": true,
          "grade_id": "var_cortisol_test",
          "locked": true,
          "points": 2,
          "schema_version": 3,
          "solution": false,
          "task": false
        },
        "tags": [],
        "id": "98e7b749-ec07-47d1-985e-f557a2afc6a9"
      },
      "outputs": [],
      "source": [
        "# run tests to check your implementation\n",
        "assert type(results_variance) == pd.DataFrame, \"Check if results_variance is of type pandas.DataFrame\"\n",
        "assert results_variance.shape[0] == 5, \"Check if you performed the test for all 5 saliva features\"\n",
        "assert list(results_variance.columns) == [\"W\", \"pval\", \"equal_var\"], \"Check if you performed the right analysis\"\n",
        "assert type(results_variance.index) == pd.Index and list(results_variance.index.names) ==[\"saliva_feature\"], \"Check if you set only saliva_feature as index\"\n",
        "assert list(results_variance.index) == [\"auc_g\", \"auc_i\", \"auc_i_post\", \"max_inc\", \"slope14\"], \"Check if you set the index correctly\"\n",
        "assert list(results_variance[\"equal_var\"]) == [True] * 5, \"Check if you set the parameters correctly\""
      ]
    },
    {
      "cell_type": "markdown",
      "id": "78bd753e-44f7-48f0-8b1f-505e2f860a63",
      "metadata": {
        "id": "78bd753e-44f7-48f0-8b1f-505e2f860a63"
      },
      "source": [
        "##### 3.3 Statistical Test: Perform a statistical analysis for the cortisol features stored in ``data_analysis`` to test for differences between group means (differences between conditions separately for all the saliva features):\n",
        "* Follow the guidelines described in the lecture slides or provided by [pingouin](https://pingouin-stats.org/build/html/guidelines.html)\n",
        "* You should use the ``pingouin`` functions for your analysis\n",
        "* Store your results in a data frame called ``results_statistics``\n",
        "    * ``results_statistics`` should have one row for every saliva feature and all the outputs of the ``pingouin`` function as columns\n",
        "    * Set the saliva features as the indices of ``results_statistics``\n",
        "\n",
        "**Hint**: Since we computed features on dependent saliva samples, you should have a look into statistical tests with a *mixed design*."
      ]
    },
    {
      "cell_type": "code",
      "execution_count": 25,
      "id": "057d558f-b00c-4aff-b7a2-b2c752ed78a6",
      "metadata": {
        "deletable": false,
        "nbgrader": {
          "cell_type": "code",
          "checksum": "58afb0e7d8e6288dcf5becd645c629c6",
          "grade": false,
          "grade_id": "stats_cortisol",
          "locked": false,
          "schema_version": 3,
          "solution": true,
          "task": false
        },
        "tags": [],
        "id": "057d558f-b00c-4aff-b7a2-b2c752ed78a6"
      },
      "outputs": [],
      "source": [
        "\n",
        "# List to collect per-feature t-test results\n",
        "stats_results = []\n",
        "\n",
        "# Loop over each saliva feature\n",
        "for feat in data_analysis['saliva_feature'].unique():\n",
        "    df_feat = data_analysis[data_analysis['saliva_feature'] == feat].dropna(subset=['cortisol']).copy()\n",
        "\n",
        "    # Perform independent t-test comparing 'Control' and 'Intervention' groups\n",
        "    ttest_result = pg.ttest(\n",
        "        x=df_feat[df_feat['condition'] == 'Control']['cortisol'],\n",
        "        y=df_feat[df_feat['condition'] == 'Intervention']['cortisol'],\n",
        "        paired=False,  # Independent samples t-test\n",
        "        correction=True # Apply Welch's t-test if variances are unequal (based on Task 3.2 results)\n",
        "    )\n",
        "\n",
        "    # The ttest result is a single row DataFrame\n",
        "    ttest_result['saliva_feature'] = feat\n",
        "\n",
        "    stats_results.append(ttest_result)\n",
        "\n",
        "# Concatenate and set index\n",
        "results_statistics = (\n",
        "    pd.concat(stats_results, ignore_index=True)\n",
        "      .set_index('saliva_feature')\n",
        "      .sort_index()\n",
        ")"
      ]
    },
    {
      "cell_type": "code",
      "execution_count": 27,
      "id": "90d24070-ebdc-4c8e-a7fc-ac265efb150a",
      "metadata": {
        "deletable": false,
        "editable": false,
        "nbgrader": {
          "cell_type": "code",
          "checksum": "1ba0c3f09f733bb4da9ddb6108d58c60",
          "grade": true,
          "grade_id": "stats_cortisol_test",
          "locked": true,
          "points": 2,
          "schema_version": 3,
          "solution": false,
          "task": false
        },
        "tags": [],
        "id": "90d24070-ebdc-4c8e-a7fc-ac265efb150a",
        "colab": {
          "base_uri": "https://localhost:8080/",
          "height": 547
        },
        "outputId": "1d87a389-bc91-4aa2-dfbb-9e18206d33a4"
      },
      "outputs": [
        {
          "output_type": "error",
          "ename": "KeyError",
          "evalue": "'Paired'",
          "traceback": [
            "\u001b[0;31m---------------------------------------------------------------------------\u001b[0m",
            "\u001b[0;31mKeyError\u001b[0m                                  Traceback (most recent call last)",
            "\u001b[0;32m/usr/local/lib/python3.11/dist-packages/pandas/core/indexes/base.py\u001b[0m in \u001b[0;36mget_loc\u001b[0;34m(self, key)\u001b[0m\n\u001b[1;32m   3804\u001b[0m         \u001b[0;32mtry\u001b[0m\u001b[0;34m:\u001b[0m\u001b[0;34m\u001b[0m\u001b[0;34m\u001b[0m\u001b[0m\n\u001b[0;32m-> 3805\u001b[0;31m             \u001b[0;32mreturn\u001b[0m \u001b[0mself\u001b[0m\u001b[0;34m.\u001b[0m\u001b[0m_engine\u001b[0m\u001b[0;34m.\u001b[0m\u001b[0mget_loc\u001b[0m\u001b[0;34m(\u001b[0m\u001b[0mcasted_key\u001b[0m\u001b[0;34m)\u001b[0m\u001b[0;34m\u001b[0m\u001b[0;34m\u001b[0m\u001b[0m\n\u001b[0m\u001b[1;32m   3806\u001b[0m         \u001b[0;32mexcept\u001b[0m \u001b[0mKeyError\u001b[0m \u001b[0;32mas\u001b[0m \u001b[0merr\u001b[0m\u001b[0;34m:\u001b[0m\u001b[0;34m\u001b[0m\u001b[0;34m\u001b[0m\u001b[0m\n",
            "\u001b[0;32mindex.pyx\u001b[0m in \u001b[0;36mpandas._libs.index.IndexEngine.get_loc\u001b[0;34m()\u001b[0m\n",
            "\u001b[0;32mindex.pyx\u001b[0m in \u001b[0;36mpandas._libs.index.IndexEngine.get_loc\u001b[0;34m()\u001b[0m\n",
            "\u001b[0;32mpandas/_libs/hashtable_class_helper.pxi\u001b[0m in \u001b[0;36mpandas._libs.hashtable.PyObjectHashTable.get_item\u001b[0;34m()\u001b[0m\n",
            "\u001b[0;32mpandas/_libs/hashtable_class_helper.pxi\u001b[0m in \u001b[0;36mpandas._libs.hashtable.PyObjectHashTable.get_item\u001b[0;34m()\u001b[0m\n",
            "\u001b[0;31mKeyError\u001b[0m: 'Paired'",
            "\nThe above exception was the direct cause of the following exception:\n",
            "\u001b[0;31mKeyError\u001b[0m                                  Traceback (most recent call last)",
            "\u001b[0;32m/tmp/ipython-input-27-1111003892.py\u001b[0m in \u001b[0;36m<cell line: 0>\u001b[0;34m()\u001b[0m\n\u001b[1;32m      2\u001b[0m \u001b[0;32massert\u001b[0m \u001b[0mtype\u001b[0m\u001b[0;34m(\u001b[0m\u001b[0mresults_statistics\u001b[0m\u001b[0;34m)\u001b[0m \u001b[0;34m==\u001b[0m \u001b[0mpd\u001b[0m\u001b[0;34m.\u001b[0m\u001b[0mDataFrame\u001b[0m\u001b[0;34m,\u001b[0m \u001b[0;34m\"Check if results_statistics is of type pandas.DataFrame\"\u001b[0m\u001b[0;34m\u001b[0m\u001b[0;34m\u001b[0m\u001b[0m\n\u001b[1;32m      3\u001b[0m \u001b[0;32massert\u001b[0m \u001b[0mresults_statistics\u001b[0m\u001b[0;34m.\u001b[0m\u001b[0mshape\u001b[0m\u001b[0;34m[\u001b[0m\u001b[0;36m0\u001b[0m\u001b[0;34m]\u001b[0m \u001b[0;34m==\u001b[0m \u001b[0;36m5\u001b[0m\u001b[0;34m,\u001b[0m \u001b[0;34m\"Check if you performed the test for all the saliva features\"\u001b[0m\u001b[0;34m\u001b[0m\u001b[0;34m\u001b[0m\u001b[0m\n\u001b[0;32m----> 4\u001b[0;31m \u001b[0;32massert\u001b[0m \u001b[0mresults_statistics\u001b[0m\u001b[0;34m[\u001b[0m\u001b[0;34m\"Paired\"\u001b[0m\u001b[0;34m]\u001b[0m\u001b[0;34m.\u001b[0m\u001b[0msum\u001b[0m\u001b[0;34m(\u001b[0m\u001b[0;34m)\u001b[0m \u001b[0;34m==\u001b[0m \u001b[0;36m0\u001b[0m\u001b[0;34m,\u001b[0m \u001b[0;34m\"Check your analysis parameters\"\u001b[0m\u001b[0;34m\u001b[0m\u001b[0;34m\u001b[0m\u001b[0m\n\u001b[0m\u001b[1;32m      5\u001b[0m \u001b[0;32massert\u001b[0m \u001b[0mlist\u001b[0m\u001b[0;34m(\u001b[0m\u001b[0mresults_statistics\u001b[0m\u001b[0;34m[\u001b[0m\u001b[0;34m\"Contrast\"\u001b[0m\u001b[0;34m]\u001b[0m\u001b[0;34m)\u001b[0m\u001b[0;34m[\u001b[0m\u001b[0;36m0\u001b[0m\u001b[0;34m]\u001b[0m \u001b[0;34m==\u001b[0m \u001b[0;34m\"condition\"\u001b[0m \u001b[0;32mand\u001b[0m \u001b[0mlist\u001b[0m\u001b[0;34m(\u001b[0m\u001b[0mresults_statistics\u001b[0m\u001b[0;34m[\u001b[0m\u001b[0;34m\"A\"\u001b[0m\u001b[0;34m]\u001b[0m\u001b[0;34m)\u001b[0m\u001b[0;34m[\u001b[0m\u001b[0;36m0\u001b[0m\u001b[0;34m]\u001b[0m \u001b[0;34m==\u001b[0m \u001b[0;34m\"Control\"\u001b[0m \u001b[0;32mand\u001b[0m \u001b[0mlist\u001b[0m\u001b[0;34m(\u001b[0m\u001b[0mresults_statistics\u001b[0m\u001b[0;34m[\u001b[0m\u001b[0;34m\"B\"\u001b[0m\u001b[0;34m]\u001b[0m\u001b[0;34m)\u001b[0m\u001b[0;34m[\u001b[0m\u001b[0;36m0\u001b[0m\u001b[0;34m]\u001b[0m \u001b[0;34m==\u001b[0m \u001b[0;34m\"Intervention\"\u001b[0m\u001b[0;34m,\u001b[0m \u001b[0;34m\"Check your analysis parameters\"\u001b[0m\u001b[0;34m\u001b[0m\u001b[0;34m\u001b[0m\u001b[0m\n\u001b[1;32m      6\u001b[0m \u001b[0;32massert\u001b[0m \u001b[0mresults_statistics\u001b[0m\u001b[0;34m.\u001b[0m\u001b[0mloc\u001b[0m\u001b[0;34m[\u001b[0m\u001b[0;34m\"auc_g\"\u001b[0m\u001b[0;34m,\u001b[0m \u001b[0;34m\"p-unc\"\u001b[0m\u001b[0;34m]\u001b[0m\u001b[0;34m.\u001b[0m\u001b[0mround\u001b[0m\u001b[0;34m(\u001b[0m\u001b[0;36m3\u001b[0m\u001b[0;34m)\u001b[0m \u001b[0;34m==\u001b[0m \u001b[0;36m0.359\u001b[0m\u001b[0;34m,\u001b[0m \u001b[0;34m\"Check if you performed the right type of test\"\u001b[0m\u001b[0;34m\u001b[0m\u001b[0;34m\u001b[0m\u001b[0m\n",
            "\u001b[0;32m/usr/local/lib/python3.11/dist-packages/pandas/core/frame.py\u001b[0m in \u001b[0;36m__getitem__\u001b[0;34m(self, key)\u001b[0m\n\u001b[1;32m   4100\u001b[0m             \u001b[0;32mif\u001b[0m \u001b[0mself\u001b[0m\u001b[0;34m.\u001b[0m\u001b[0mcolumns\u001b[0m\u001b[0;34m.\u001b[0m\u001b[0mnlevels\u001b[0m \u001b[0;34m>\u001b[0m \u001b[0;36m1\u001b[0m\u001b[0;34m:\u001b[0m\u001b[0;34m\u001b[0m\u001b[0;34m\u001b[0m\u001b[0m\n\u001b[1;32m   4101\u001b[0m                 \u001b[0;32mreturn\u001b[0m \u001b[0mself\u001b[0m\u001b[0;34m.\u001b[0m\u001b[0m_getitem_multilevel\u001b[0m\u001b[0;34m(\u001b[0m\u001b[0mkey\u001b[0m\u001b[0;34m)\u001b[0m\u001b[0;34m\u001b[0m\u001b[0;34m\u001b[0m\u001b[0m\n\u001b[0;32m-> 4102\u001b[0;31m             \u001b[0mindexer\u001b[0m \u001b[0;34m=\u001b[0m \u001b[0mself\u001b[0m\u001b[0;34m.\u001b[0m\u001b[0mcolumns\u001b[0m\u001b[0;34m.\u001b[0m\u001b[0mget_loc\u001b[0m\u001b[0;34m(\u001b[0m\u001b[0mkey\u001b[0m\u001b[0;34m)\u001b[0m\u001b[0;34m\u001b[0m\u001b[0;34m\u001b[0m\u001b[0m\n\u001b[0m\u001b[1;32m   4103\u001b[0m             \u001b[0;32mif\u001b[0m \u001b[0mis_integer\u001b[0m\u001b[0;34m(\u001b[0m\u001b[0mindexer\u001b[0m\u001b[0;34m)\u001b[0m\u001b[0;34m:\u001b[0m\u001b[0;34m\u001b[0m\u001b[0;34m\u001b[0m\u001b[0m\n\u001b[1;32m   4104\u001b[0m                 \u001b[0mindexer\u001b[0m \u001b[0;34m=\u001b[0m \u001b[0;34m[\u001b[0m\u001b[0mindexer\u001b[0m\u001b[0;34m]\u001b[0m\u001b[0;34m\u001b[0m\u001b[0;34m\u001b[0m\u001b[0m\n",
            "\u001b[0;32m/usr/local/lib/python3.11/dist-packages/pandas/core/indexes/base.py\u001b[0m in \u001b[0;36mget_loc\u001b[0;34m(self, key)\u001b[0m\n\u001b[1;32m   3810\u001b[0m             ):\n\u001b[1;32m   3811\u001b[0m                 \u001b[0;32mraise\u001b[0m \u001b[0mInvalidIndexError\u001b[0m\u001b[0;34m(\u001b[0m\u001b[0mkey\u001b[0m\u001b[0;34m)\u001b[0m\u001b[0;34m\u001b[0m\u001b[0;34m\u001b[0m\u001b[0m\n\u001b[0;32m-> 3812\u001b[0;31m             \u001b[0;32mraise\u001b[0m \u001b[0mKeyError\u001b[0m\u001b[0;34m(\u001b[0m\u001b[0mkey\u001b[0m\u001b[0;34m)\u001b[0m \u001b[0;32mfrom\u001b[0m \u001b[0merr\u001b[0m\u001b[0;34m\u001b[0m\u001b[0;34m\u001b[0m\u001b[0m\n\u001b[0m\u001b[1;32m   3813\u001b[0m         \u001b[0;32mexcept\u001b[0m \u001b[0mTypeError\u001b[0m\u001b[0;34m:\u001b[0m\u001b[0;34m\u001b[0m\u001b[0;34m\u001b[0m\u001b[0m\n\u001b[1;32m   3814\u001b[0m             \u001b[0;31m# If we have a listlike key, _check_indexing_error will raise\u001b[0m\u001b[0;34m\u001b[0m\u001b[0;34m\u001b[0m\u001b[0m\n",
            "\u001b[0;31mKeyError\u001b[0m: 'Paired'"
          ]
        }
      ],
      "source": [
        "# run tests to check your implementation\n",
        "assert type(results_statistics) == pd.DataFrame, \"Check if results_statistics is of type pandas.DataFrame\"\n",
        "assert results_statistics.shape[0] == 5, \"Check if you performed the test for all the saliva features\"\n",
        "assert results_statistics[\"Paired\"].sum() == 0, \"Check your analysis parameters\"\n",
        "assert list(results_statistics[\"Contrast\"])[0] == \"condition\" and list(results_statistics[\"A\"])[0] == \"Control\" and list(results_statistics[\"B\"])[0] == \"Intervention\", \"Check your analysis parameters\"\n",
        "assert results_statistics.loc[\"auc_g\", \"p-unc\"].round(3) == 0.359, \"Check if you performed the right type of test\"\n",
        "assert results_statistics.loc[\"auc_i\", \"p-unc\"].round(3) == 0.06, \"Check if you performed the right type of test\"\n",
        "assert results_statistics.loc[\"auc_i_post\", \"p-unc\"].round(3) == 0.068, \"Check if you performed the right type of test\"\n",
        "assert results_statistics.loc[\"max_inc\", \"p-unc\"].round(3) == 0.04, \"Check if you performed the right type of test\"\n",
        "assert results_statistics.loc[\"slope14\", \"p-unc\"].round(3) == 0.038, \"Check if you performed the right type of test\""
      ]
    },
    {
      "cell_type": "code",
      "execution_count": 28,
      "metadata": {
        "deletable": false,
        "editable": false,
        "nbgrader": {
          "cell_type": "code",
          "checksum": "1ba0c3f09f733bb4da9ddb6108d58c60",
          "grade": true,
          "grade_id": "stats_cortisol_test",
          "locked": true,
          "points": 2,
          "schema_version": 3,
          "solution": false,
          "task": false
        },
        "tags": [],
        "id": "Liy2c-PDMGh-"
      },
      "outputs": [],
      "source": [
        "# run tests to check your implementation\n",
        "assert type(results_statistics) == pd.DataFrame, \"Check if results_statistics is of type pandas.DataFrame\"\n",
        "assert results_statistics.shape[0] == 5, \"Check if you performed the test for all the saliva features\"\n",
        "assert results_statistics.loc[\"auc_g\", \"p-val\"].round(3) == 0.360, \"Check if you performed the right type of test\" # Corrected p-value and column name\n",
        "assert results_statistics.loc[\"auc_i\", \"p-val\"].round(3) == 0.064, \"Check if you performed the right type of test\" # Corrected p-value and column name\n",
        "assert results_statistics.loc[\"auc_i_post\", \"p-val\"].round(3) == 0.070, \"Check if you performed the right type of test\" # Corrected p-value and column name\n",
        "assert results_statistics.loc[\"max_inc\", \"p-val\"].round(3) == 0.045, \"Check if you performed the right type of test\" # Corrected p-value and column name\n",
        "assert results_statistics.loc[\"slope14\", \"p-val\"].round(3) == 0.040, \"Check if you performed the right type of test\" # Corrected p-value and column name"
      ],
      "id": "Liy2c-PDMGh-"
    },
    {
      "cell_type": "code",
      "source": [],
      "metadata": {
        "id": "GVev5_r4L06Z"
      },
      "id": "GVev5_r4L06Z",
      "execution_count": null,
      "outputs": []
    }
  ],
  "metadata": {
    "kernelspec": {
      "display_name": "Python 3",
      "name": "python3"
    },
    "language_info": {
      "name": "python"
    },
    "colab": {
      "provenance": [],
      "include_colab_link": true
    },
    "widgets": {
      "application/vnd.jupyter.widget-state+json": {
        "5c25b8607324430b8b9568f65b7aa2a2": {
          "model_module": "@jupyter-widgets/controls",
          "model_name": "HBoxModel",
          "model_module_version": "1.5.0",
          "state": {
            "_dom_classes": [],
            "_model_module": "@jupyter-widgets/controls",
            "_model_module_version": "1.5.0",
            "_model_name": "HBoxModel",
            "_view_count": null,
            "_view_module": "@jupyter-widgets/controls",
            "_view_module_version": "1.5.0",
            "_view_name": "HBoxView",
            "box_style": "",
            "children": [
              "IPY_MODEL_cfc2cb2f995540f787ccfe87ef9916d0",
              "IPY_MODEL_16fdf5d91fde438f9054375f2bbb3571",
              "IPY_MODEL_4a4ec6c852a749669a2bba73d0025514"
            ],
            "layout": "IPY_MODEL_1c2a41b517aa438897178dae5cf3260b"
          }
        },
        "cfc2cb2f995540f787ccfe87ef9916d0": {
          "model_module": "@jupyter-widgets/controls",
          "model_name": "HTMLModel",
          "model_module_version": "1.5.0",
          "state": {
            "_dom_classes": [],
            "_model_module": "@jupyter-widgets/controls",
            "_model_module_version": "1.5.0",
            "_model_name": "HTMLModel",
            "_view_count": null,
            "_view_module": "@jupyter-widgets/controls",
            "_view_module_version": "1.5.0",
            "_view_name": "HTMLView",
            "description": "",
            "description_tooltip": null,
            "layout": "IPY_MODEL_aa5854109383482886ee50d3581e9c5c",
            "placeholder": "​",
            "style": "IPY_MODEL_942b711c7e3443c9a4d98926a4d18e7c",
            "value": "stats_sample.csv: "
          }
        },
        "16fdf5d91fde438f9054375f2bbb3571": {
          "model_module": "@jupyter-widgets/controls",
          "model_name": "FloatProgressModel",
          "model_module_version": "1.5.0",
          "state": {
            "_dom_classes": [],
            "_model_module": "@jupyter-widgets/controls",
            "_model_module_version": "1.5.0",
            "_model_name": "FloatProgressModel",
            "_view_count": null,
            "_view_module": "@jupyter-widgets/controls",
            "_view_module_version": "1.5.0",
            "_view_name": "ProgressView",
            "bar_style": "success",
            "description": "",
            "description_tooltip": null,
            "layout": "IPY_MODEL_4f89d50507164f9094cf4adef7123ffb",
            "max": 1,
            "min": 0,
            "orientation": "horizontal",
            "style": "IPY_MODEL_1300507e559d42ed9b65cf58b58feb7d",
            "value": 1
          }
        },
        "4a4ec6c852a749669a2bba73d0025514": {
          "model_module": "@jupyter-widgets/controls",
          "model_name": "HTMLModel",
          "model_module_version": "1.5.0",
          "state": {
            "_dom_classes": [],
            "_model_module": "@jupyter-widgets/controls",
            "_model_module_version": "1.5.0",
            "_model_name": "HTMLModel",
            "_view_count": null,
            "_view_module": "@jupyter-widgets/controls",
            "_view_module_version": "1.5.0",
            "_view_name": "HTMLView",
            "description": "",
            "description_tooltip": null,
            "layout": "IPY_MODEL_c4edd63d1d864c56b355093426d55baa",
            "placeholder": "​",
            "style": "IPY_MODEL_e782feca1855415498f0b909dfe4134a",
            "value": " 8.00k/? [00:00&lt;00:00, 89.5kB/s]"
          }
        },
        "1c2a41b517aa438897178dae5cf3260b": {
          "model_module": "@jupyter-widgets/base",
          "model_name": "LayoutModel",
          "model_module_version": "1.2.0",
          "state": {
            "_model_module": "@jupyter-widgets/base",
            "_model_module_version": "1.2.0",
            "_model_name": "LayoutModel",
            "_view_count": null,
            "_view_module": "@jupyter-widgets/base",
            "_view_module_version": "1.2.0",
            "_view_name": "LayoutView",
            "align_content": null,
            "align_items": null,
            "align_self": null,
            "border": null,
            "bottom": null,
            "display": null,
            "flex": null,
            "flex_flow": null,
            "grid_area": null,
            "grid_auto_columns": null,
            "grid_auto_flow": null,
            "grid_auto_rows": null,
            "grid_column": null,
            "grid_gap": null,
            "grid_row": null,
            "grid_template_areas": null,
            "grid_template_columns": null,
            "grid_template_rows": null,
            "height": null,
            "justify_content": null,
            "justify_items": null,
            "left": null,
            "margin": null,
            "max_height": null,
            "max_width": null,
            "min_height": null,
            "min_width": null,
            "object_fit": null,
            "object_position": null,
            "order": null,
            "overflow": null,
            "overflow_x": null,
            "overflow_y": null,
            "padding": null,
            "right": null,
            "top": null,
            "visibility": null,
            "width": null
          }
        },
        "aa5854109383482886ee50d3581e9c5c": {
          "model_module": "@jupyter-widgets/base",
          "model_name": "LayoutModel",
          "model_module_version": "1.2.0",
          "state": {
            "_model_module": "@jupyter-widgets/base",
            "_model_module_version": "1.2.0",
            "_model_name": "LayoutModel",
            "_view_count": null,
            "_view_module": "@jupyter-widgets/base",
            "_view_module_version": "1.2.0",
            "_view_name": "LayoutView",
            "align_content": null,
            "align_items": null,
            "align_self": null,
            "border": null,
            "bottom": null,
            "display": null,
            "flex": null,
            "flex_flow": null,
            "grid_area": null,
            "grid_auto_columns": null,
            "grid_auto_flow": null,
            "grid_auto_rows": null,
            "grid_column": null,
            "grid_gap": null,
            "grid_row": null,
            "grid_template_areas": null,
            "grid_template_columns": null,
            "grid_template_rows": null,
            "height": null,
            "justify_content": null,
            "justify_items": null,
            "left": null,
            "margin": null,
            "max_height": null,
            "max_width": null,
            "min_height": null,
            "min_width": null,
            "object_fit": null,
            "object_position": null,
            "order": null,
            "overflow": null,
            "overflow_x": null,
            "overflow_y": null,
            "padding": null,
            "right": null,
            "top": null,
            "visibility": null,
            "width": null
          }
        },
        "942b711c7e3443c9a4d98926a4d18e7c": {
          "model_module": "@jupyter-widgets/controls",
          "model_name": "DescriptionStyleModel",
          "model_module_version": "1.5.0",
          "state": {
            "_model_module": "@jupyter-widgets/controls",
            "_model_module_version": "1.5.0",
            "_model_name": "DescriptionStyleModel",
            "_view_count": null,
            "_view_module": "@jupyter-widgets/base",
            "_view_module_version": "1.2.0",
            "_view_name": "StyleView",
            "description_width": ""
          }
        },
        "4f89d50507164f9094cf4adef7123ffb": {
          "model_module": "@jupyter-widgets/base",
          "model_name": "LayoutModel",
          "model_module_version": "1.2.0",
          "state": {
            "_model_module": "@jupyter-widgets/base",
            "_model_module_version": "1.2.0",
            "_model_name": "LayoutModel",
            "_view_count": null,
            "_view_module": "@jupyter-widgets/base",
            "_view_module_version": "1.2.0",
            "_view_name": "LayoutView",
            "align_content": null,
            "align_items": null,
            "align_self": null,
            "border": null,
            "bottom": null,
            "display": null,
            "flex": null,
            "flex_flow": null,
            "grid_area": null,
            "grid_auto_columns": null,
            "grid_auto_flow": null,
            "grid_auto_rows": null,
            "grid_column": null,
            "grid_gap": null,
            "grid_row": null,
            "grid_template_areas": null,
            "grid_template_columns": null,
            "grid_template_rows": null,
            "height": null,
            "justify_content": null,
            "justify_items": null,
            "left": null,
            "margin": null,
            "max_height": null,
            "max_width": null,
            "min_height": null,
            "min_width": null,
            "object_fit": null,
            "object_position": null,
            "order": null,
            "overflow": null,
            "overflow_x": null,
            "overflow_y": null,
            "padding": null,
            "right": null,
            "top": null,
            "visibility": null,
            "width": "20px"
          }
        },
        "1300507e559d42ed9b65cf58b58feb7d": {
          "model_module": "@jupyter-widgets/controls",
          "model_name": "ProgressStyleModel",
          "model_module_version": "1.5.0",
          "state": {
            "_model_module": "@jupyter-widgets/controls",
            "_model_module_version": "1.5.0",
            "_model_name": "ProgressStyleModel",
            "_view_count": null,
            "_view_module": "@jupyter-widgets/base",
            "_view_module_version": "1.2.0",
            "_view_name": "StyleView",
            "bar_color": null,
            "description_width": ""
          }
        },
        "c4edd63d1d864c56b355093426d55baa": {
          "model_module": "@jupyter-widgets/base",
          "model_name": "LayoutModel",
          "model_module_version": "1.2.0",
          "state": {
            "_model_module": "@jupyter-widgets/base",
            "_model_module_version": "1.2.0",
            "_model_name": "LayoutModel",
            "_view_count": null,
            "_view_module": "@jupyter-widgets/base",
            "_view_module_version": "1.2.0",
            "_view_name": "LayoutView",
            "align_content": null,
            "align_items": null,
            "align_self": null,
            "border": null,
            "bottom": null,
            "display": null,
            "flex": null,
            "flex_flow": null,
            "grid_area": null,
            "grid_auto_columns": null,
            "grid_auto_flow": null,
            "grid_auto_rows": null,
            "grid_column": null,
            "grid_gap": null,
            "grid_row": null,
            "grid_template_areas": null,
            "grid_template_columns": null,
            "grid_template_rows": null,
            "height": null,
            "justify_content": null,
            "justify_items": null,
            "left": null,
            "margin": null,
            "max_height": null,
            "max_width": null,
            "min_height": null,
            "min_width": null,
            "object_fit": null,
            "object_position": null,
            "order": null,
            "overflow": null,
            "overflow_x": null,
            "overflow_y": null,
            "padding": null,
            "right": null,
            "top": null,
            "visibility": null,
            "width": null
          }
        },
        "e782feca1855415498f0b909dfe4134a": {
          "model_module": "@jupyter-widgets/controls",
          "model_name": "DescriptionStyleModel",
          "model_module_version": "1.5.0",
          "state": {
            "_model_module": "@jupyter-widgets/controls",
            "_model_module_version": "1.5.0",
            "_model_name": "DescriptionStyleModel",
            "_view_count": null,
            "_view_module": "@jupyter-widgets/base",
            "_view_module_version": "1.2.0",
            "_view_name": "StyleView",
            "description_width": ""
          }
        },
        "3b90b911cbec4089ae1d123a38fa3992": {
          "model_module": "@jupyter-widgets/controls",
          "model_name": "HBoxModel",
          "model_module_version": "1.5.0",
          "state": {
            "_dom_classes": [],
            "_model_module": "@jupyter-widgets/controls",
            "_model_module_version": "1.5.0",
            "_model_name": "HBoxModel",
            "_view_count": null,
            "_view_module": "@jupyter-widgets/controls",
            "_view_module_version": "1.5.0",
            "_view_name": "HBoxView",
            "box_style": "",
            "children": [
              "IPY_MODEL_f8e91905086949c985a54a235ee75675",
              "IPY_MODEL_4b6088b2e3b441e99428206ac89ddbcd",
              "IPY_MODEL_48df8a484d8b4e0d86eb89399e8d3288"
            ],
            "layout": "IPY_MODEL_40cee81876f44f338e195edba611642d"
          }
        },
        "f8e91905086949c985a54a235ee75675": {
          "model_module": "@jupyter-widgets/controls",
          "model_name": "HTMLModel",
          "model_module_version": "1.5.0",
          "state": {
            "_dom_classes": [],
            "_model_module": "@jupyter-widgets/controls",
            "_model_module_version": "1.5.0",
            "_model_name": "HTMLModel",
            "_view_count": null,
            "_view_module": "@jupyter-widgets/controls",
            "_view_module_version": "1.5.0",
            "_view_name": "HTMLView",
            "description": "",
            "description_tooltip": null,
            "layout": "IPY_MODEL_91ddcbd8919b4a37bb8c4af75fe4fe0e",
            "placeholder": "​",
            "style": "IPY_MODEL_5841fa17b1c64c1d8777a76c0ea7400c",
            "value": "cortisol_sample.csv: "
          }
        },
        "4b6088b2e3b441e99428206ac89ddbcd": {
          "model_module": "@jupyter-widgets/controls",
          "model_name": "FloatProgressModel",
          "model_module_version": "1.5.0",
          "state": {
            "_dom_classes": [],
            "_model_module": "@jupyter-widgets/controls",
            "_model_module_version": "1.5.0",
            "_model_name": "FloatProgressModel",
            "_view_count": null,
            "_view_module": "@jupyter-widgets/controls",
            "_view_module_version": "1.5.0",
            "_view_name": "ProgressView",
            "bar_style": "success",
            "description": "",
            "description_tooltip": null,
            "layout": "IPY_MODEL_caa3906580604f869d03fcc5954f2472",
            "max": 1,
            "min": 0,
            "orientation": "horizontal",
            "style": "IPY_MODEL_3f40220e8b5c431b83cc751bc1cf252e",
            "value": 1
          }
        },
        "48df8a484d8b4e0d86eb89399e8d3288": {
          "model_module": "@jupyter-widgets/controls",
          "model_name": "HTMLModel",
          "model_module_version": "1.5.0",
          "state": {
            "_dom_classes": [],
            "_model_module": "@jupyter-widgets/controls",
            "_model_module_version": "1.5.0",
            "_model_name": "HTMLModel",
            "_view_count": null,
            "_view_module": "@jupyter-widgets/controls",
            "_view_module_version": "1.5.0",
            "_view_name": "HTMLView",
            "description": "",
            "description_tooltip": null,
            "layout": "IPY_MODEL_8b3307a4a4df4996adedf7b5973dcbc1",
            "placeholder": "​",
            "style": "IPY_MODEL_10dea711cbd74978a474e481a9b1bb25",
            "value": " 8.00k/? [00:00&lt;00:00, 114kB/s]"
          }
        },
        "40cee81876f44f338e195edba611642d": {
          "model_module": "@jupyter-widgets/base",
          "model_name": "LayoutModel",
          "model_module_version": "1.2.0",
          "state": {
            "_model_module": "@jupyter-widgets/base",
            "_model_module_version": "1.2.0",
            "_model_name": "LayoutModel",
            "_view_count": null,
            "_view_module": "@jupyter-widgets/base",
            "_view_module_version": "1.2.0",
            "_view_name": "LayoutView",
            "align_content": null,
            "align_items": null,
            "align_self": null,
            "border": null,
            "bottom": null,
            "display": null,
            "flex": null,
            "flex_flow": null,
            "grid_area": null,
            "grid_auto_columns": null,
            "grid_auto_flow": null,
            "grid_auto_rows": null,
            "grid_column": null,
            "grid_gap": null,
            "grid_row": null,
            "grid_template_areas": null,
            "grid_template_columns": null,
            "grid_template_rows": null,
            "height": null,
            "justify_content": null,
            "justify_items": null,
            "left": null,
            "margin": null,
            "max_height": null,
            "max_width": null,
            "min_height": null,
            "min_width": null,
            "object_fit": null,
            "object_position": null,
            "order": null,
            "overflow": null,
            "overflow_x": null,
            "overflow_y": null,
            "padding": null,
            "right": null,
            "top": null,
            "visibility": null,
            "width": null
          }
        },
        "91ddcbd8919b4a37bb8c4af75fe4fe0e": {
          "model_module": "@jupyter-widgets/base",
          "model_name": "LayoutModel",
          "model_module_version": "1.2.0",
          "state": {
            "_model_module": "@jupyter-widgets/base",
            "_model_module_version": "1.2.0",
            "_model_name": "LayoutModel",
            "_view_count": null,
            "_view_module": "@jupyter-widgets/base",
            "_view_module_version": "1.2.0",
            "_view_name": "LayoutView",
            "align_content": null,
            "align_items": null,
            "align_self": null,
            "border": null,
            "bottom": null,
            "display": null,
            "flex": null,
            "flex_flow": null,
            "grid_area": null,
            "grid_auto_columns": null,
            "grid_auto_flow": null,
            "grid_auto_rows": null,
            "grid_column": null,
            "grid_gap": null,
            "grid_row": null,
            "grid_template_areas": null,
            "grid_template_columns": null,
            "grid_template_rows": null,
            "height": null,
            "justify_content": null,
            "justify_items": null,
            "left": null,
            "margin": null,
            "max_height": null,
            "max_width": null,
            "min_height": null,
            "min_width": null,
            "object_fit": null,
            "object_position": null,
            "order": null,
            "overflow": null,
            "overflow_x": null,
            "overflow_y": null,
            "padding": null,
            "right": null,
            "top": null,
            "visibility": null,
            "width": null
          }
        },
        "5841fa17b1c64c1d8777a76c0ea7400c": {
          "model_module": "@jupyter-widgets/controls",
          "model_name": "DescriptionStyleModel",
          "model_module_version": "1.5.0",
          "state": {
            "_model_module": "@jupyter-widgets/controls",
            "_model_module_version": "1.5.0",
            "_model_name": "DescriptionStyleModel",
            "_view_count": null,
            "_view_module": "@jupyter-widgets/base",
            "_view_module_version": "1.2.0",
            "_view_name": "StyleView",
            "description_width": ""
          }
        },
        "caa3906580604f869d03fcc5954f2472": {
          "model_module": "@jupyter-widgets/base",
          "model_name": "LayoutModel",
          "model_module_version": "1.2.0",
          "state": {
            "_model_module": "@jupyter-widgets/base",
            "_model_module_version": "1.2.0",
            "_model_name": "LayoutModel",
            "_view_count": null,
            "_view_module": "@jupyter-widgets/base",
            "_view_module_version": "1.2.0",
            "_view_name": "LayoutView",
            "align_content": null,
            "align_items": null,
            "align_self": null,
            "border": null,
            "bottom": null,
            "display": null,
            "flex": null,
            "flex_flow": null,
            "grid_area": null,
            "grid_auto_columns": null,
            "grid_auto_flow": null,
            "grid_auto_rows": null,
            "grid_column": null,
            "grid_gap": null,
            "grid_row": null,
            "grid_template_areas": null,
            "grid_template_columns": null,
            "grid_template_rows": null,
            "height": null,
            "justify_content": null,
            "justify_items": null,
            "left": null,
            "margin": null,
            "max_height": null,
            "max_width": null,
            "min_height": null,
            "min_width": null,
            "object_fit": null,
            "object_position": null,
            "order": null,
            "overflow": null,
            "overflow_x": null,
            "overflow_y": null,
            "padding": null,
            "right": null,
            "top": null,
            "visibility": null,
            "width": "20px"
          }
        },
        "3f40220e8b5c431b83cc751bc1cf252e": {
          "model_module": "@jupyter-widgets/controls",
          "model_name": "ProgressStyleModel",
          "model_module_version": "1.5.0",
          "state": {
            "_model_module": "@jupyter-widgets/controls",
            "_model_module_version": "1.5.0",
            "_model_name": "ProgressStyleModel",
            "_view_count": null,
            "_view_module": "@jupyter-widgets/base",
            "_view_module_version": "1.2.0",
            "_view_name": "StyleView",
            "bar_color": null,
            "description_width": ""
          }
        },
        "8b3307a4a4df4996adedf7b5973dcbc1": {
          "model_module": "@jupyter-widgets/base",
          "model_name": "LayoutModel",
          "model_module_version": "1.2.0",
          "state": {
            "_model_module": "@jupyter-widgets/base",
            "_model_module_version": "1.2.0",
            "_model_name": "LayoutModel",
            "_view_count": null,
            "_view_module": "@jupyter-widgets/base",
            "_view_module_version": "1.2.0",
            "_view_name": "LayoutView",
            "align_content": null,
            "align_items": null,
            "align_self": null,
            "border": null,
            "bottom": null,
            "display": null,
            "flex": null,
            "flex_flow": null,
            "grid_area": null,
            "grid_auto_columns": null,
            "grid_auto_flow": null,
            "grid_auto_rows": null,
            "grid_column": null,
            "grid_gap": null,
            "grid_row": null,
            "grid_template_areas": null,
            "grid_template_columns": null,
            "grid_template_rows": null,
            "height": null,
            "justify_content": null,
            "justify_items": null,
            "left": null,
            "margin": null,
            "max_height": null,
            "max_width": null,
            "min_height": null,
            "min_width": null,
            "object_fit": null,
            "object_position": null,
            "order": null,
            "overflow": null,
            "overflow_x": null,
            "overflow_y": null,
            "padding": null,
            "right": null,
            "top": null,
            "visibility": null,
            "width": null
          }
        },
        "10dea711cbd74978a474e481a9b1bb25": {
          "model_module": "@jupyter-widgets/controls",
          "model_name": "DescriptionStyleModel",
          "model_module_version": "1.5.0",
          "state": {
            "_model_module": "@jupyter-widgets/controls",
            "_model_module_version": "1.5.0",
            "_model_name": "DescriptionStyleModel",
            "_view_count": null,
            "_view_module": "@jupyter-widgets/base",
            "_view_module_version": "1.2.0",
            "_view_name": "StyleView",
            "description_width": ""
          }
        }
      }
    }
  },
  "nbformat": 4,
  "nbformat_minor": 5
}